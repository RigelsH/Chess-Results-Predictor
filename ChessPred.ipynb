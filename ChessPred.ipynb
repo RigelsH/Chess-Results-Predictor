{
  "cells": [
    {
      "attachments": {},
      "cell_type": "markdown",
      "id": "61e407c0",
      "metadata": {
        "id": "61e407c0"
      },
      "source": [
        "# **Predicting the outcomes of chess games**\n",
        "### Author: Rigels Hita"
      ]
    },
    {
      "attachments": {},
      "cell_type": "markdown",
      "id": "b46bd627",
      "metadata": {
        "id": "b46bd627"
      },
      "source": [
        "##   1. Introduction\n",
        "\n",
        "The problem we are trying to solve in this notebook is to predict the outcome of a chess game. Given a set of chess games in the PGN format, we will use machine learning techniques to build a model that can predict the winner of a game. We will be using the dataset \"10000 Chess games with centipawn loss\", which contains 10000 chess games with various chess moves.\n",
        "\n",
        "The libraries we will be using in this notebook include pandas, numpy,tensoflow and scikit-learn. Pandas will be used for data manipulation and cleaning, numpy will be used for numerical computations and scikit-learn will be used for building and evaluating machine learning models.Finally tensorflow/keras will be used to build a neural network.\n",
        "\n",
        "During this project different machine learning models such as Logistic Regression, Random Forest and Decision Tree Classifier,XGB and a Multilayer Perceptron will be explored to predict the winner of a chess game. Some hyperparameter tuning will take place to find the optimal values.\n",
        "\n",
        "To evaluate the performance of our model, we will be using classification metrics such as accuracy, precision, recall and F1-score. We will be using a hold-out test set to evaluate the model performance and will compare the performance of different models to decide which one is the best."
      ]
    },
    {
      "attachments": {},
      "cell_type": "markdown",
      "id": "1ba6e730",
      "metadata": {
        "id": "1ba6e730"
      },
      "source": [
        "# 2. Dataset characterization \n"
      ]
    },
    {
      "attachments": {},
      "cell_type": "markdown",
      "id": "7f899582",
      "metadata": {
        "id": "7f899582"
      },
      "source": [
        "The dataset consists of 10000+ chess games played between chess players under FIDE(International Chess Federation)rules.It contains some interesting columns(features) that may be proven useful for our machine learning models to predict the outcome of chess games.The 'Results' column is going to be our label and its rows represent the outcome of the chess game.\n",
        "- Result: 0 white wins, 1-draw, 2-black wins."
      ]
    },
    {
      "attachments": {},
      "cell_type": "markdown",
      "id": "53803931",
      "metadata": {
        "id": "53803931"
      },
      "source": [
        "# 3. Data preprocessing"
      ]
    },
    {
      "attachments": {},
      "cell_type": "markdown",
      "id": "734d0f05",
      "metadata": {
        "id": "734d0f05"
      },
      "source": [
        "### 3.1 Importing Libraries"
      ]
    },
    {
      "attachments": {},
      "cell_type": "markdown",
      "id": "118f7e38",
      "metadata": {
        "id": "118f7e38"
      },
      "source": [
        "- NumPy is a library that is used for working with large arrays and matrices of numerical data, as well as for performing mathematical operations on these arrays. It provides functions for performing operations such as mathematical, logical, shape manipulation, sorting, selecting, basic linear algebra, basic statistical operations, etc.\n",
        "\n",
        "- Pandas is a library that is used for data manipulation and analysis. It provides functions for reading and writing data, handling missing data, and manipulating data in a variety of ways, such as merging, reshaping, and aggregating data. It also provides powerful data structures such as DataFrame and Series for handling and analyzing data.\n",
        "\n",
        "- Matplotlib and Seaborn are used to create visualizations of the data. These plots can be helpful for understanding the characteristics of the data and for identifying patterns or trends.\n",
        "\n",
        "- SciPy is a library built on top of NumPy and provides a collection of mathematical algorithms and functions such as optimization,linear algebra,signal and image processing, etc. It also provides a number of high-level functions that are built on top of the lower-level NumPy and SciPy functions, making it easy to perform common tasks such as fitting models to data, solving differential equations, and optimization.\n",
        "\n",
        "- Scikit-learn is a library that is used for machine learning tasks such as classification, regression, clustering, and dimensionality reduction. \n",
        "\n",
        "- TensorFlow provides a flexible and powerful platform for implementing and optimizing various machine learning algorithms, including neural networks.\n",
        "\n",
        "- Keras is a high-level neural networks API, written in Python and running on top of TensorFlow.\n",
        "\n",
        "- The warnings library in Python is used to issue warnings to the user about potential problems or situations that may arise in their code. In this case it will be used to suppress warning messages that may be generated while running the code."
      ]
    },
    {
      "cell_type": "code",
      "execution_count": null,
      "id": "868fbad4",
      "metadata": {
        "id": "868fbad4"
      },
      "outputs": [],
      "source": [
        "import tensorflow as tf\n",
        "import numpy as np\n",
        "import pandas as pd \n",
        "import seaborn as sns\n",
        "import h5py\n",
        "import matplotlib.pyplot as plt \n",
        "import xgboost as xgb\n",
        "from scipy import stats\n",
        "from sklearn import tree\n",
        "from sklearn.model_selection import train_test_split,GridSearchCV\n",
        "from sklearn.tree import DecisionTreeClassifier\n",
        "from sklearn.metrics import accuracy_score,confusion_matrix\n",
        "from sklearn.preprocessing import LabelEncoder\n",
        "from sklearn.ensemble import RandomForestClassifier\n",
        "from sklearn.ensemble import GradientBoostingClassifier\n",
        "from sklearn.svm import SVC\n",
        "from sklearn.linear_model import LogisticRegression\n",
        "from sklearn.metrics import classification_report\n",
        "from sklearn.model_selection import cross_val_score\n",
        "from sklearn.preprocessing import StandardScaler\n",
        "from keras.models import Sequential\n",
        "from keras.layers import Dense, Dropout\n",
        "from keras.optimizers import Adam\n",
        "from keras import regularizers\n",
        "from keras.models import load_model\n",
        "from keras.losses import kullback_leibler_divergence\n",
        "import chess.pgn\n",
        "\n",
        "import warnings\n",
        "warnings.filterwarnings('ignore')\n"
      ]
    },
    {
      "attachments": {},
      "cell_type": "markdown",
      "id": "f0e8f3cf",
      "metadata": {
        "id": "f0e8f3cf"
      },
      "source": [
        "### 3.2 Importing Data "
      ]
    },
    {
      "attachments": {},
      "cell_type": "markdown",
      "id": "bdb98483",
      "metadata": {
        "id": "bdb98483"
      },
      "source": [
        "- Dataset is loaded into a pandas dataframe\n",
        "- The first five rows of the dataframe are displayed using the head() function.\n",
        "- value.counts() function is used to check how many chess games has white won, black won or ended in a draw"
      ]
    },
    {
      "cell_type": "code",
      "execution_count": null,
      "id": "f287a8bc",
      "metadata": {
        "id": "f287a8bc"
      },
      "outputs": [],
      "source": [
        "data=pd.read_csv('/content/sample_data/chessgames.csv')"
      ]
    },
    {
      "cell_type": "code",
      "execution_count": null,
      "id": "6e8a99f7",
      "metadata": {
        "colab": {
          "base_uri": "https://localhost:8080/",
          "height": 1000
        },
        "id": "6e8a99f7",
        "outputId": "056f3c88-081e-4648-ad36-880025a4c4cc",
        "scrolled": true
      },
      "outputs": [
        {
          "data": {
            "text/html": [
              "\n",
              "  <div id=\"df-31a22b03-af57-4484-8dd5-9c525e9430a6\">\n",
              "    <div class=\"colab-df-container\">\n",
              "      <div>\n",
              "<style scoped>\n",
              "    .dataframe tbody tr th:only-of-type {\n",
              "        vertical-align: middle;\n",
              "    }\n",
              "\n",
              "    .dataframe tbody tr th {\n",
              "        vertical-align: top;\n",
              "    }\n",
              "\n",
              "    .dataframe thead th {\n",
              "        text-align: right;\n",
              "    }\n",
              "</style>\n",
              "<table border=\"1\" class=\"dataframe\">\n",
              "  <thead>\n",
              "    <tr style=\"text-align: right;\">\n",
              "      <th></th>\n",
              "      <th>Unnamed: 0</th>\n",
              "      <th>Date</th>\n",
              "      <th>Event Name</th>\n",
              "      <th>Event Rounds</th>\n",
              "      <th>Round</th>\n",
              "      <th>White Name</th>\n",
              "      <th>Black Name</th>\n",
              "      <th>Result</th>\n",
              "      <th>White ELO</th>\n",
              "      <th>Black ELO</th>\n",
              "      <th>Moves</th>\n",
              "      <th>White Av CP Loss</th>\n",
              "      <th>Black Av CP Loss</th>\n",
              "      <th>Evaluations List</th>\n",
              "      <th>White CP Loss List</th>\n",
              "      <th>Black CP Loss List</th>\n",
              "      <th>PGN</th>\n",
              "      <th>Analysis Depth</th>\n",
              "      <th>White Expected Rating by ACPL</th>\n",
              "      <th>Black Expected Rating by ACPL</th>\n",
              "    </tr>\n",
              "  </thead>\n",
              "  <tbody>\n",
              "    <tr>\n",
              "      <th>0</th>\n",
              "      <td>0</td>\n",
              "      <td>3/28/2018</td>\n",
              "      <td>Philadelphia op 12th</td>\n",
              "      <td>9</td>\n",
              "      <td>1</td>\n",
              "      <td>Niemann, Hans Moke</td>\n",
              "      <td>Oberoi, Shelev</td>\n",
              "      <td>0</td>\n",
              "      <td>2302.0</td>\n",
              "      <td>1924.0</td>\n",
              "      <td>39.0</td>\n",
              "      <td>22.0</td>\n",
              "      <td>46.0</td>\n",
              "      <td>[47, 43, 44, -9, 17, 10, 5, 0, 12, -30, -13, -...</td>\n",
              "      <td>[4, 53, 7, 5, 42, 38, 0, 13, 135, 0, 0, 5, 0, ...</td>\n",
              "      <td>[1, 26, 0, 12, 17, 10, 19, 14, 35, 12, 10, 11,...</td>\n",
              "      <td>[Event \"Philadelphia op 12th\"]\\n[Site \"Philade...</td>\n",
              "      <td>20.0</td>\n",
              "      <td>NaN</td>\n",
              "      <td>NaN</td>\n",
              "    </tr>\n",
              "    <tr>\n",
              "      <th>1</th>\n",
              "      <td>0</td>\n",
              "      <td>3/29/2018</td>\n",
              "      <td>Philadelphia op 12th</td>\n",
              "      <td>9</td>\n",
              "      <td>2</td>\n",
              "      <td>Niemann, Hans Moke</td>\n",
              "      <td>Popilski, Gil</td>\n",
              "      <td>1</td>\n",
              "      <td>2302.0</td>\n",
              "      <td>2502.0</td>\n",
              "      <td>36.0</td>\n",
              "      <td>12.0</td>\n",
              "      <td>13.0</td>\n",
              "      <td>[46, 36, 46, 35, 50, 36, 62, 47, 59, 38, 57, 5...</td>\n",
              "      <td>[10, 11, 14, 15, 21, 1, 31, 36, 2, 25, 11, 28,...</td>\n",
              "      <td>[10, 15, 26, 12, 19, 6, 54, 13, 18, 17, 12, 10...</td>\n",
              "      <td>[Event \"Philadelphia op 12th\"]\\n[Site \"Philade...</td>\n",
              "      <td>20.0</td>\n",
              "      <td>NaN</td>\n",
              "      <td>NaN</td>\n",
              "    </tr>\n",
              "    <tr>\n",
              "      <th>2</th>\n",
              "      <td>0</td>\n",
              "      <td>3/29/2018</td>\n",
              "      <td>Philadelphia op 12th</td>\n",
              "      <td>9</td>\n",
              "      <td>3</td>\n",
              "      <td>Gorovets, Andrey</td>\n",
              "      <td>Niemann, Hans Moke</td>\n",
              "      <td>2</td>\n",
              "      <td>2496.0</td>\n",
              "      <td>2302.0</td>\n",
              "      <td>50.0</td>\n",
              "      <td>46.0</td>\n",
              "      <td>28.0</td>\n",
              "      <td>[37, 27, 49, 6, 35, 12, 22, 18, 33, 13, 29, 19...</td>\n",
              "      <td>[10, 43, 23, 4, 20, 10, 12, 3, 9, 24, 10, 49, ...</td>\n",
              "      <td>[22, 29, 10, 15, 16, 0, 0, 41, 16, 7, 0, 73, 1...</td>\n",
              "      <td>[Event \"Philadelphia op 12th\"]\\n[Site \"Philade...</td>\n",
              "      <td>20.0</td>\n",
              "      <td>NaN</td>\n",
              "      <td>NaN</td>\n",
              "    </tr>\n",
              "    <tr>\n",
              "      <th>3</th>\n",
              "      <td>0</td>\n",
              "      <td>3/30/2018</td>\n",
              "      <td>Philadelphia op 12th</td>\n",
              "      <td>9</td>\n",
              "      <td>4</td>\n",
              "      <td>Tang, Andrew</td>\n",
              "      <td>Niemann, Hans Moke</td>\n",
              "      <td>0</td>\n",
              "      <td>2509.0</td>\n",
              "      <td>2302.0</td>\n",
              "      <td>38.0</td>\n",
              "      <td>22.0</td>\n",
              "      <td>38.0</td>\n",
              "      <td>[46, 26, 40, 37, 96, 67, 151, 114, 138, 125, 1...</td>\n",
              "      <td>[20, 3, 29, 37, 13, 51, 24, 33, 8, 45, 10, 31,...</td>\n",
              "      <td>[14, 59, 84, 24, 37, 42, 19, 36, 1, 50, 37, 0,...</td>\n",
              "      <td>[Event \"Philadelphia op 12th\"]\\n[Site \"Philade...</td>\n",
              "      <td>20.0</td>\n",
              "      <td>NaN</td>\n",
              "      <td>NaN</td>\n",
              "    </tr>\n",
              "    <tr>\n",
              "      <th>4</th>\n",
              "      <td>0</td>\n",
              "      <td>3/30/2018</td>\n",
              "      <td>Philadelphia op 12th</td>\n",
              "      <td>9</td>\n",
              "      <td>5</td>\n",
              "      <td>Niemann, Hans Moke</td>\n",
              "      <td>Balakrishnan, Praveen</td>\n",
              "      <td>2</td>\n",
              "      <td>2302.0</td>\n",
              "      <td>2405.0</td>\n",
              "      <td>39.0</td>\n",
              "      <td>23.0</td>\n",
              "      <td>7.0</td>\n",
              "      <td>[35, 27, 48, 23, 36, 20, 46, 8, 25, 31, 38, -5...</td>\n",
              "      <td>[8, 25, 16, 38, 0, 92, 6, 0, 1, 2, 0, 7, 0, 30...</td>\n",
              "      <td>[21, 13, 26, 17, 7, 3, 3, 45, 3, 0, 2, 0, 30, ...</td>\n",
              "      <td>[Event \"Philadelphia op 12th\"]\\n[Site \"Philade...</td>\n",
              "      <td>20.0</td>\n",
              "      <td>NaN</td>\n",
              "      <td>NaN</td>\n",
              "    </tr>\n",
              "  </tbody>\n",
              "</table>\n",
              "</div>\n",
              "      <button class=\"colab-df-convert\" onclick=\"convertToInteractive('df-31a22b03-af57-4484-8dd5-9c525e9430a6')\"\n",
              "              title=\"Convert this dataframe to an interactive table.\"\n",
              "              style=\"display:none;\">\n",
              "        \n",
              "  <svg xmlns=\"http://www.w3.org/2000/svg\" height=\"24px\"viewBox=\"0 0 24 24\"\n",
              "       width=\"24px\">\n",
              "    <path d=\"M0 0h24v24H0V0z\" fill=\"none\"/>\n",
              "    <path d=\"M18.56 5.44l.94 2.06.94-2.06 2.06-.94-2.06-.94-.94-2.06-.94 2.06-2.06.94zm-11 1L8.5 8.5l.94-2.06 2.06-.94-2.06-.94L8.5 2.5l-.94 2.06-2.06.94zm10 10l.94 2.06.94-2.06 2.06-.94-2.06-.94-.94-2.06-.94 2.06-2.06.94z\"/><path d=\"M17.41 7.96l-1.37-1.37c-.4-.4-.92-.59-1.43-.59-.52 0-1.04.2-1.43.59L10.3 9.45l-7.72 7.72c-.78.78-.78 2.05 0 2.83L4 21.41c.39.39.9.59 1.41.59.51 0 1.02-.2 1.41-.59l7.78-7.78 2.81-2.81c.8-.78.8-2.07 0-2.86zM5.41 20L4 18.59l7.72-7.72 1.47 1.35L5.41 20z\"/>\n",
              "  </svg>\n",
              "      </button>\n",
              "      \n",
              "  <style>\n",
              "    .colab-df-container {\n",
              "      display:flex;\n",
              "      flex-wrap:wrap;\n",
              "      gap: 12px;\n",
              "    }\n",
              "\n",
              "    .colab-df-convert {\n",
              "      background-color: #E8F0FE;\n",
              "      border: none;\n",
              "      border-radius: 50%;\n",
              "      cursor: pointer;\n",
              "      display: none;\n",
              "      fill: #1967D2;\n",
              "      height: 32px;\n",
              "      padding: 0 0 0 0;\n",
              "      width: 32px;\n",
              "    }\n",
              "\n",
              "    .colab-df-convert:hover {\n",
              "      background-color: #E2EBFA;\n",
              "      box-shadow: 0px 1px 2px rgba(60, 64, 67, 0.3), 0px 1px 3px 1px rgba(60, 64, 67, 0.15);\n",
              "      fill: #174EA6;\n",
              "    }\n",
              "\n",
              "    [theme=dark] .colab-df-convert {\n",
              "      background-color: #3B4455;\n",
              "      fill: #D2E3FC;\n",
              "    }\n",
              "\n",
              "    [theme=dark] .colab-df-convert:hover {\n",
              "      background-color: #434B5C;\n",
              "      box-shadow: 0px 1px 3px 1px rgba(0, 0, 0, 0.15);\n",
              "      filter: drop-shadow(0px 1px 2px rgba(0, 0, 0, 0.3));\n",
              "      fill: #FFFFFF;\n",
              "    }\n",
              "  </style>\n",
              "\n",
              "      <script>\n",
              "        const buttonEl =\n",
              "          document.querySelector('#df-31a22b03-af57-4484-8dd5-9c525e9430a6 button.colab-df-convert');\n",
              "        buttonEl.style.display =\n",
              "          google.colab.kernel.accessAllowed ? 'block' : 'none';\n",
              "\n",
              "        async function convertToInteractive(key) {\n",
              "          const element = document.querySelector('#df-31a22b03-af57-4484-8dd5-9c525e9430a6');\n",
              "          const dataTable =\n",
              "            await google.colab.kernel.invokeFunction('convertToInteractive',\n",
              "                                                     [key], {});\n",
              "          if (!dataTable) return;\n",
              "\n",
              "          const docLinkHtml = 'Like what you see? Visit the ' +\n",
              "            '<a target=\"_blank\" href=https://colab.research.google.com/notebooks/data_table.ipynb>data table notebook</a>'\n",
              "            + ' to learn more about interactive tables.';\n",
              "          element.innerHTML = '';\n",
              "          dataTable['output_type'] = 'display_data';\n",
              "          await google.colab.output.renderOutput(dataTable, element);\n",
              "          const docLink = document.createElement('div');\n",
              "          docLink.innerHTML = docLinkHtml;\n",
              "          element.appendChild(docLink);\n",
              "        }\n",
              "      </script>\n",
              "    </div>\n",
              "  </div>\n",
              "  "
            ],
            "text/plain": [
              "  Unnamed: 0       Date            Event Name Event Rounds Round  \\\n",
              "0          0  3/28/2018  Philadelphia op 12th            9     1   \n",
              "1          0  3/29/2018  Philadelphia op 12th            9     2   \n",
              "2          0  3/29/2018  Philadelphia op 12th            9     3   \n",
              "3          0  3/30/2018  Philadelphia op 12th            9     4   \n",
              "4          0  3/30/2018  Philadelphia op 12th            9     5   \n",
              "\n",
              "           White Name             Black Name Result  White ELO  Black ELO  \\\n",
              "0  Niemann, Hans Moke         Oberoi, Shelev      0     2302.0     1924.0   \n",
              "1  Niemann, Hans Moke          Popilski, Gil      1     2302.0     2502.0   \n",
              "2    Gorovets, Andrey     Niemann, Hans Moke      2     2496.0     2302.0   \n",
              "3        Tang, Andrew     Niemann, Hans Moke      0     2509.0     2302.0   \n",
              "4  Niemann, Hans Moke  Balakrishnan, Praveen      2     2302.0     2405.0   \n",
              "\n",
              "   Moves  White Av CP Loss  Black Av CP Loss  \\\n",
              "0   39.0              22.0              46.0   \n",
              "1   36.0              12.0              13.0   \n",
              "2   50.0              46.0              28.0   \n",
              "3   38.0              22.0              38.0   \n",
              "4   39.0              23.0               7.0   \n",
              "\n",
              "                                    Evaluations List  \\\n",
              "0  [47, 43, 44, -9, 17, 10, 5, 0, 12, -30, -13, -...   \n",
              "1  [46, 36, 46, 35, 50, 36, 62, 47, 59, 38, 57, 5...   \n",
              "2  [37, 27, 49, 6, 35, 12, 22, 18, 33, 13, 29, 19...   \n",
              "3  [46, 26, 40, 37, 96, 67, 151, 114, 138, 125, 1...   \n",
              "4  [35, 27, 48, 23, 36, 20, 46, 8, 25, 31, 38, -5...   \n",
              "\n",
              "                                  White CP Loss List  \\\n",
              "0  [4, 53, 7, 5, 42, 38, 0, 13, 135, 0, 0, 5, 0, ...   \n",
              "1  [10, 11, 14, 15, 21, 1, 31, 36, 2, 25, 11, 28,...   \n",
              "2  [10, 43, 23, 4, 20, 10, 12, 3, 9, 24, 10, 49, ...   \n",
              "3  [20, 3, 29, 37, 13, 51, 24, 33, 8, 45, 10, 31,...   \n",
              "4  [8, 25, 16, 38, 0, 92, 6, 0, 1, 2, 0, 7, 0, 30...   \n",
              "\n",
              "                                  Black CP Loss List  \\\n",
              "0  [1, 26, 0, 12, 17, 10, 19, 14, 35, 12, 10, 11,...   \n",
              "1  [10, 15, 26, 12, 19, 6, 54, 13, 18, 17, 12, 10...   \n",
              "2  [22, 29, 10, 15, 16, 0, 0, 41, 16, 7, 0, 73, 1...   \n",
              "3  [14, 59, 84, 24, 37, 42, 19, 36, 1, 50, 37, 0,...   \n",
              "4  [21, 13, 26, 17, 7, 3, 3, 45, 3, 0, 2, 0, 30, ...   \n",
              "\n",
              "                                                 PGN  Analysis Depth  \\\n",
              "0  [Event \"Philadelphia op 12th\"]\\n[Site \"Philade...            20.0   \n",
              "1  [Event \"Philadelphia op 12th\"]\\n[Site \"Philade...            20.0   \n",
              "2  [Event \"Philadelphia op 12th\"]\\n[Site \"Philade...            20.0   \n",
              "3  [Event \"Philadelphia op 12th\"]\\n[Site \"Philade...            20.0   \n",
              "4  [Event \"Philadelphia op 12th\"]\\n[Site \"Philade...            20.0   \n",
              "\n",
              "   White Expected Rating by ACPL  Black Expected Rating by ACPL  \n",
              "0                            NaN                            NaN  \n",
              "1                            NaN                            NaN  \n",
              "2                            NaN                            NaN  \n",
              "3                            NaN                            NaN  \n",
              "4                            NaN                            NaN  "
            ]
          },
          "execution_count": 3,
          "metadata": {},
          "output_type": "execute_result"
        }
      ],
      "source": [
        "data.head()"
      ]
    },
    {
      "cell_type": "code",
      "execution_count": null,
      "id": "4e979d0f",
      "metadata": {
        "colab": {
          "base_uri": "https://localhost:8080/"
        },
        "id": "4e979d0f",
        "outputId": "e31848de-900b-408e-e20d-352ffe989ee8",
        "scrolled": true
      },
      "outputs": [
        {
          "name": "stdout",
          "output_type": "stream",
          "text": [
            "1    4281\n",
            "0    3703\n",
            "2    2494\n",
            "*       2\n",
            "Name: Result, dtype: int64\n"
          ]
        }
      ],
      "source": [
        "print(data.Result.value_counts())"
      ]
    },
    {
      "attachments": {},
      "cell_type": "markdown",
      "id": "a3624dea",
      "metadata": {
        "id": "a3624dea"
      },
      "source": [
        "### 3.3 Data cleaning,transforming and organizing\n"
      ]
    },
    {
      "cell_type": "code",
      "execution_count": null,
      "id": "518786ef",
      "metadata": {
        "colab": {
          "base_uri": "https://localhost:8080/"
        },
        "id": "518786ef",
        "outputId": "1f5e886c-c305-4004-a1df-6be352d019a3"
      },
      "outputs": [
        {
          "data": {
            "text/plain": [
              "Unnamed: 0                        object\n",
              "Date                              object\n",
              "Event Name                        object\n",
              "Event Rounds                      object\n",
              "Round                             object\n",
              "White Name                        object\n",
              "Black Name                        object\n",
              "Result                            object\n",
              "White ELO                        float64\n",
              "Black ELO                        float64\n",
              "Moves                            float64\n",
              "White Av CP Loss                 float64\n",
              "Black Av CP Loss                 float64\n",
              "Evaluations List                  object\n",
              "White CP Loss List                object\n",
              "Black CP Loss List                object\n",
              "PGN                               object\n",
              "Analysis Depth                   float64\n",
              "White Expected Rating by ACPL    float64\n",
              "Black Expected Rating by ACPL    float64\n",
              "dtype: object"
            ]
          },
          "execution_count": 5,
          "metadata": {},
          "output_type": "execute_result"
        }
      ],
      "source": [
        "#Finding out data types for each column in our dataset\n",
        "data.dtypes"
      ]
    },
    {
      "cell_type": "code",
      "execution_count": null,
      "id": "ed6e46a0",
      "metadata": {
        "colab": {
          "base_uri": "https://localhost:8080/"
        },
        "id": "ed6e46a0",
        "outputId": "fc9bb16a-70dc-47d4-821c-e52534175283"
      },
      "outputs": [
        {
          "data": {
            "text/plain": [
              "Unnamed: 0                           0\n",
              "Date                               110\n",
              "Event Name                         136\n",
              "Event Rounds                       155\n",
              "Round                              142\n",
              "White Name                         142\n",
              "Black Name                         142\n",
              "Result                             142\n",
              "White ELO                          142\n",
              "Black ELO                          142\n",
              "Moves                              142\n",
              "White Av CP Loss                   142\n",
              "Black Av CP Loss                   142\n",
              "Evaluations List                   142\n",
              "White CP Loss List                 142\n",
              "Black CP Loss List                 142\n",
              "PGN                                142\n",
              "Analysis Depth                     143\n",
              "White Expected Rating by ACPL    10608\n",
              "Black Expected Rating by ACPL    10608\n",
              "dtype: int64"
            ]
          },
          "execution_count": 6,
          "metadata": {},
          "output_type": "execute_result"
        }
      ],
      "source": [
        "# Checking for null values in the dataset \n",
        "data.isnull().sum()"
      ]
    },
    {
      "cell_type": "code",
      "execution_count": null,
      "id": "5bee7fa0",
      "metadata": {
        "id": "5bee7fa0"
      },
      "outputs": [],
      "source": [
        "# Defining the indexes of df with null values as players\n",
        "i = data[data['White Name'].isna()].index"
      ]
    },
    {
      "cell_type": "code",
      "execution_count": null,
      "id": "45db36ab",
      "metadata": {
        "id": "45db36ab"
      },
      "outputs": [],
      "source": [
        "# Droping the rows were there is no White players name\n",
        "data = data.drop(i)"
      ]
    },
    {
      "cell_type": "code",
      "execution_count": null,
      "id": "9a5594c7",
      "metadata": {
        "id": "9a5594c7"
      },
      "outputs": [],
      "source": [
        "#droping the strange \"*\" character from every row of the Result column\n",
        "data= data[data[\"Result\"].str.contains(\"\\*\") == False]"
      ]
    },
    {
      "cell_type": "code",
      "execution_count": null,
      "id": "UolC10HL-uGW",
      "metadata": {
        "id": "UolC10HL-uGW"
      },
      "outputs": [],
      "source": [
        "data['Result'] = pd.to_numeric(data['Result'])"
      ]
    },
    {
      "cell_type": "code",
      "execution_count": null,
      "id": "4jfH81jrte0e",
      "metadata": {
        "colab": {
          "base_uri": "https://localhost:8080/"
        },
        "id": "4jfH81jrte0e",
        "outputId": "66c9ada5-3665-40c6-9b53-5ebbf979cc8f"
      },
      "outputs": [
        {
          "name": "stdout",
          "output_type": "stream",
          "text": [
            "Result                           1.000000\n",
            "White ELO                        0.226814\n",
            "Black ELO                        0.231891\n",
            "White Av CP Loss                 0.366742\n",
            "Black Av CP Loss                 0.448540\n",
            "White Expected Rating by ACPL    0.473741\n",
            "Black Expected Rating by ACPL    0.282785\n",
            "Name: Result, dtype: float64\n"
          ]
        }
      ],
      "source": [
        "corr_matrix = data.corr()\n",
        "corr_target = abs(corr_matrix[\"Result\"])\n",
        "\n",
        "# Select highly correlated features\n",
        "relevant_features = corr_target[corr_target>0.2]\n",
        "print(relevant_features)"
      ]
    },
    {
      "cell_type": "code",
      "execution_count": null,
      "id": "a975f2b9",
      "metadata": {
        "id": "a975f2b9"
      },
      "outputs": [],
      "source": [
        "#Droping columns that contain no useful information\n",
        "data = data.drop(['Unnamed: 0','PGN','Date', 'Event Name', 'Event Rounds','Round','White Name','Black Name','Evaluations List','Analysis Depth','Moves','White CP Loss List','Black CP Loss List','Black CP Loss List','White Expected Rating by ACPL','Black Expected Rating by ACPL'], axis=1)\n"
      ]
    },
    {
      "cell_type": "code",
      "execution_count": null,
      "id": "24d20fe6",
      "metadata": {
        "colab": {
          "base_uri": "https://localhost:8080/",
          "height": 300
        },
        "id": "24d20fe6",
        "outputId": "3894ac14-fb72-4d0b-8df2-eaca1d9ac026",
        "scrolled": true
      },
      "outputs": [
        {
          "data": {
            "text/html": [
              "\n",
              "  <div id=\"df-b2103e19-1e8c-40eb-a902-1c1e25f04db9\">\n",
              "    <div class=\"colab-df-container\">\n",
              "      <div>\n",
              "<style scoped>\n",
              "    .dataframe tbody tr th:only-of-type {\n",
              "        vertical-align: middle;\n",
              "    }\n",
              "\n",
              "    .dataframe tbody tr th {\n",
              "        vertical-align: top;\n",
              "    }\n",
              "\n",
              "    .dataframe thead th {\n",
              "        text-align: right;\n",
              "    }\n",
              "</style>\n",
              "<table border=\"1\" class=\"dataframe\">\n",
              "  <thead>\n",
              "    <tr style=\"text-align: right;\">\n",
              "      <th></th>\n",
              "      <th>Result</th>\n",
              "      <th>White ELO</th>\n",
              "      <th>Black ELO</th>\n",
              "      <th>White Av CP Loss</th>\n",
              "      <th>Black Av CP Loss</th>\n",
              "    </tr>\n",
              "  </thead>\n",
              "  <tbody>\n",
              "    <tr>\n",
              "      <th>count</th>\n",
              "      <td>10478.000000</td>\n",
              "      <td>10478.000000</td>\n",
              "      <td>10478.000000</td>\n",
              "      <td>10478.000000</td>\n",
              "      <td>10478.000000</td>\n",
              "    </tr>\n",
              "    <tr>\n",
              "      <th>mean</th>\n",
              "      <td>0.884615</td>\n",
              "      <td>2534.930139</td>\n",
              "      <td>2526.249571</td>\n",
              "      <td>26.836801</td>\n",
              "      <td>28.504676</td>\n",
              "    </tr>\n",
              "    <tr>\n",
              "      <th>std</th>\n",
              "      <td>0.760376</td>\n",
              "      <td>215.427960</td>\n",
              "      <td>233.380039</td>\n",
              "      <td>16.568383</td>\n",
              "      <td>17.720415</td>\n",
              "    </tr>\n",
              "    <tr>\n",
              "      <th>min</th>\n",
              "      <td>0.000000</td>\n",
              "      <td>893.000000</td>\n",
              "      <td>700.000000</td>\n",
              "      <td>0.000000</td>\n",
              "      <td>0.000000</td>\n",
              "    </tr>\n",
              "    <tr>\n",
              "      <th>25%</th>\n",
              "      <td>0.000000</td>\n",
              "      <td>2439.000000</td>\n",
              "      <td>2430.000000</td>\n",
              "      <td>15.000000</td>\n",
              "      <td>15.000000</td>\n",
              "    </tr>\n",
              "    <tr>\n",
              "      <th>50%</th>\n",
              "      <td>1.000000</td>\n",
              "      <td>2558.000000</td>\n",
              "      <td>2553.000000</td>\n",
              "      <td>23.000000</td>\n",
              "      <td>25.000000</td>\n",
              "    </tr>\n",
              "    <tr>\n",
              "      <th>75%</th>\n",
              "      <td>1.000000</td>\n",
              "      <td>2688.000000</td>\n",
              "      <td>2686.000000</td>\n",
              "      <td>35.000000</td>\n",
              "      <td>39.000000</td>\n",
              "    </tr>\n",
              "    <tr>\n",
              "      <th>max</th>\n",
              "      <td>2.000000</td>\n",
              "      <td>2882.000000</td>\n",
              "      <td>2882.000000</td>\n",
              "      <td>458.000000</td>\n",
              "      <td>476.000000</td>\n",
              "    </tr>\n",
              "  </tbody>\n",
              "</table>\n",
              "</div>\n",
              "      <button class=\"colab-df-convert\" onclick=\"convertToInteractive('df-b2103e19-1e8c-40eb-a902-1c1e25f04db9')\"\n",
              "              title=\"Convert this dataframe to an interactive table.\"\n",
              "              style=\"display:none;\">\n",
              "        \n",
              "  <svg xmlns=\"http://www.w3.org/2000/svg\" height=\"24px\"viewBox=\"0 0 24 24\"\n",
              "       width=\"24px\">\n",
              "    <path d=\"M0 0h24v24H0V0z\" fill=\"none\"/>\n",
              "    <path d=\"M18.56 5.44l.94 2.06.94-2.06 2.06-.94-2.06-.94-.94-2.06-.94 2.06-2.06.94zm-11 1L8.5 8.5l.94-2.06 2.06-.94-2.06-.94L8.5 2.5l-.94 2.06-2.06.94zm10 10l.94 2.06.94-2.06 2.06-.94-2.06-.94-.94-2.06-.94 2.06-2.06.94z\"/><path d=\"M17.41 7.96l-1.37-1.37c-.4-.4-.92-.59-1.43-.59-.52 0-1.04.2-1.43.59L10.3 9.45l-7.72 7.72c-.78.78-.78 2.05 0 2.83L4 21.41c.39.39.9.59 1.41.59.51 0 1.02-.2 1.41-.59l7.78-7.78 2.81-2.81c.8-.78.8-2.07 0-2.86zM5.41 20L4 18.59l7.72-7.72 1.47 1.35L5.41 20z\"/>\n",
              "  </svg>\n",
              "      </button>\n",
              "      \n",
              "  <style>\n",
              "    .colab-df-container {\n",
              "      display:flex;\n",
              "      flex-wrap:wrap;\n",
              "      gap: 12px;\n",
              "    }\n",
              "\n",
              "    .colab-df-convert {\n",
              "      background-color: #E8F0FE;\n",
              "      border: none;\n",
              "      border-radius: 50%;\n",
              "      cursor: pointer;\n",
              "      display: none;\n",
              "      fill: #1967D2;\n",
              "      height: 32px;\n",
              "      padding: 0 0 0 0;\n",
              "      width: 32px;\n",
              "    }\n",
              "\n",
              "    .colab-df-convert:hover {\n",
              "      background-color: #E2EBFA;\n",
              "      box-shadow: 0px 1px 2px rgba(60, 64, 67, 0.3), 0px 1px 3px 1px rgba(60, 64, 67, 0.15);\n",
              "      fill: #174EA6;\n",
              "    }\n",
              "\n",
              "    [theme=dark] .colab-df-convert {\n",
              "      background-color: #3B4455;\n",
              "      fill: #D2E3FC;\n",
              "    }\n",
              "\n",
              "    [theme=dark] .colab-df-convert:hover {\n",
              "      background-color: #434B5C;\n",
              "      box-shadow: 0px 1px 3px 1px rgba(0, 0, 0, 0.15);\n",
              "      filter: drop-shadow(0px 1px 2px rgba(0, 0, 0, 0.3));\n",
              "      fill: #FFFFFF;\n",
              "    }\n",
              "  </style>\n",
              "\n",
              "      <script>\n",
              "        const buttonEl =\n",
              "          document.querySelector('#df-b2103e19-1e8c-40eb-a902-1c1e25f04db9 button.colab-df-convert');\n",
              "        buttonEl.style.display =\n",
              "          google.colab.kernel.accessAllowed ? 'block' : 'none';\n",
              "\n",
              "        async function convertToInteractive(key) {\n",
              "          const element = document.querySelector('#df-b2103e19-1e8c-40eb-a902-1c1e25f04db9');\n",
              "          const dataTable =\n",
              "            await google.colab.kernel.invokeFunction('convertToInteractive',\n",
              "                                                     [key], {});\n",
              "          if (!dataTable) return;\n",
              "\n",
              "          const docLinkHtml = 'Like what you see? Visit the ' +\n",
              "            '<a target=\"_blank\" href=https://colab.research.google.com/notebooks/data_table.ipynb>data table notebook</a>'\n",
              "            + ' to learn more about interactive tables.';\n",
              "          element.innerHTML = '';\n",
              "          dataTable['output_type'] = 'display_data';\n",
              "          await google.colab.output.renderOutput(dataTable, element);\n",
              "          const docLink = document.createElement('div');\n",
              "          docLink.innerHTML = docLinkHtml;\n",
              "          element.appendChild(docLink);\n",
              "        }\n",
              "      </script>\n",
              "    </div>\n",
              "  </div>\n",
              "  "
            ],
            "text/plain": [
              "             Result     White ELO     Black ELO  White Av CP Loss  \\\n",
              "count  10478.000000  10478.000000  10478.000000      10478.000000   \n",
              "mean       0.884615   2534.930139   2526.249571         26.836801   \n",
              "std        0.760376    215.427960    233.380039         16.568383   \n",
              "min        0.000000    893.000000    700.000000          0.000000   \n",
              "25%        0.000000   2439.000000   2430.000000         15.000000   \n",
              "50%        1.000000   2558.000000   2553.000000         23.000000   \n",
              "75%        1.000000   2688.000000   2686.000000         35.000000   \n",
              "max        2.000000   2882.000000   2882.000000        458.000000   \n",
              "\n",
              "       Black Av CP Loss  \n",
              "count      10478.000000  \n",
              "mean          28.504676  \n",
              "std           17.720415  \n",
              "min            0.000000  \n",
              "25%           15.000000  \n",
              "50%           25.000000  \n",
              "75%           39.000000  \n",
              "max          476.000000  "
            ]
          },
          "execution_count": 13,
          "metadata": {},
          "output_type": "execute_result"
        }
      ],
      "source": [
        "#Having a look at the statistics of the numerical values of df\n",
        "data.describe()"
      ]
    },
    {
      "attachments": {},
      "cell_type": "markdown",
      "id": "1c4318db",
      "metadata": {
        "id": "1c4318db"
      },
      "source": [
        "# 4. Exploratory Data Analysis (EDA)"
      ]
    },
    {
      "cell_type": "code",
      "execution_count": null,
      "id": "2b10f35b",
      "metadata": {
        "colab": {
          "base_uri": "https://localhost:8080/",
          "height": 466
        },
        "id": "2b10f35b",
        "outputId": "b5273c87-37d7-4eed-997f-2bf73e13ddf0"
      },
      "outputs": [
        {
          "data": {
            "text/plain": [
              "<Axes: xlabel='White ELO', ylabel='Black ELO'>"
            ]
          },
          "execution_count": 14,
          "metadata": {},
          "output_type": "execute_result"
        },
        {
          "data": {
            "image/png": "[encoded data removed]",
            "text/plain": [
              "<Figure size 640x480 with 1 Axes>"
            ]
          },
          "metadata": {},
          "output_type": "display_data"
        }
      ],
      "source": [
        "sns.lineplot(data=data, x=\"White ELO\", y=\"Black ELO\")"
      ]
    },
    {
      "attachments": {},
      "cell_type": "markdown",
      "id": "9878f5ae",
      "metadata": {
        "id": "9878f5ae"
      },
      "source": [
        "This graph indicates that there is a correlation between Black ELO and White ELO which is due to the structure of the ELO system and tournament modes meaning strong players will get paired against strong players"
      ]
    },
    {
      "cell_type": "code",
      "execution_count": null,
      "id": "2b572998",
      "metadata": {
        "colab": {
          "base_uri": "https://localhost:8080/",
          "height": 466
        },
        "id": "2b572998",
        "outputId": "85063bce-4245-4aed-dc62-4a1c131a8ef2"
      },
      "outputs": [
        {
          "data": {
            "text/plain": [
              "<Axes: xlabel='White ELO', ylabel='Count'>"
            ]
          },
          "execution_count": 15,
          "metadata": {},
          "output_type": "execute_result"
        },
        {
          "data": {
            "image/png": "[encoded data removed]",
            "text/plain": [
              "<Figure size 640x480 with 1 Axes>"
            ]
          },
          "metadata": {},
          "output_type": "display_data"
        }
      ],
      "source": [
        "sns.histplot(data['White ELO'])"
      ]
    },
    {
      "cell_type": "code",
      "execution_count": null,
      "id": "b7e6a772",
      "metadata": {
        "colab": {
          "base_uri": "https://localhost:8080/",
          "height": 466
        },
        "id": "b7e6a772",
        "outputId": "6249cf00-be4a-45a9-87a8-1168a1467469"
      },
      "outputs": [
        {
          "data": {
            "text/plain": [
              "<Axes: xlabel='Black ELO', ylabel='Count'>"
            ]
          },
          "execution_count": 16,
          "metadata": {},
          "output_type": "execute_result"
        },
        {
          "data": {
            "image/png": "[encoded data removed]",
            "text/plain": [
              "<Figure size 640x480 with 1 Axes>"
            ]
          },
          "metadata": {},
          "output_type": "display_data"
        }
      ],
      "source": [
        "sns.histplot(data['Black ELO'], alpha=0.8)"
      ]
    },
    {
      "attachments": {},
      "cell_type": "markdown",
      "id": "788f3825",
      "metadata": {
        "id": "788f3825"
      },
      "source": [
        "From these histogram plots of playing ELO it can be seen that the sample for ELOs below 2300 is very low"
      ]
    },
    {
      "cell_type": "code",
      "execution_count": null,
      "id": "2db9b313",
      "metadata": {
        "id": "2db9b313"
      },
      "outputs": [],
      "source": [
        "#Creating a new column ELO difference.\n",
        "#It is the difference in ELO between the player with the white pieces and player with the black pieces\n",
        "data['ELO_diff'] = data['White ELO']-data['Black ELO']"
      ]
    },
    {
      "cell_type": "code",
      "execution_count": null,
      "id": "b0d6d710",
      "metadata": {
        "colab": {
          "base_uri": "https://localhost:8080/",
          "height": 206
        },
        "id": "b0d6d710",
        "outputId": "83c65d48-cec4-4195-9499-8b435fccd39b"
      },
      "outputs": [
        {
          "data": {
            "text/html": [
              "\n",
              "  <div id=\"df-d60ba444-206b-4562-8dfa-5f0568dc4e72\">\n",
              "    <div class=\"colab-df-container\">\n",
              "      <div>\n",
              "<style scoped>\n",
              "    .dataframe tbody tr th:only-of-type {\n",
              "        vertical-align: middle;\n",
              "    }\n",
              "\n",
              "    .dataframe tbody tr th {\n",
              "        vertical-align: top;\n",
              "    }\n",
              "\n",
              "    .dataframe thead th {\n",
              "        text-align: right;\n",
              "    }\n",
              "</style>\n",
              "<table border=\"1\" class=\"dataframe\">\n",
              "  <thead>\n",
              "    <tr style=\"text-align: right;\">\n",
              "      <th></th>\n",
              "      <th>Result</th>\n",
              "      <th>White ELO</th>\n",
              "      <th>Black ELO</th>\n",
              "      <th>White Av CP Loss</th>\n",
              "      <th>Black Av CP Loss</th>\n",
              "      <th>ELO_diff</th>\n",
              "    </tr>\n",
              "  </thead>\n",
              "  <tbody>\n",
              "    <tr>\n",
              "      <th>0</th>\n",
              "      <td>0</td>\n",
              "      <td>2302.0</td>\n",
              "      <td>1924.0</td>\n",
              "      <td>22.0</td>\n",
              "      <td>46.0</td>\n",
              "      <td>378.0</td>\n",
              "    </tr>\n",
              "    <tr>\n",
              "      <th>1</th>\n",
              "      <td>1</td>\n",
              "      <td>2302.0</td>\n",
              "      <td>2502.0</td>\n",
              "      <td>12.0</td>\n",
              "      <td>13.0</td>\n",
              "      <td>-200.0</td>\n",
              "    </tr>\n",
              "    <tr>\n",
              "      <th>2</th>\n",
              "      <td>2</td>\n",
              "      <td>2496.0</td>\n",
              "      <td>2302.0</td>\n",
              "      <td>46.0</td>\n",
              "      <td>28.0</td>\n",
              "      <td>194.0</td>\n",
              "    </tr>\n",
              "    <tr>\n",
              "      <th>3</th>\n",
              "      <td>0</td>\n",
              "      <td>2509.0</td>\n",
              "      <td>2302.0</td>\n",
              "      <td>22.0</td>\n",
              "      <td>38.0</td>\n",
              "      <td>207.0</td>\n",
              "    </tr>\n",
              "    <tr>\n",
              "      <th>4</th>\n",
              "      <td>2</td>\n",
              "      <td>2302.0</td>\n",
              "      <td>2405.0</td>\n",
              "      <td>23.0</td>\n",
              "      <td>7.0</td>\n",
              "      <td>-103.0</td>\n",
              "    </tr>\n",
              "  </tbody>\n",
              "</table>\n",
              "</div>\n",
              "      <button class=\"colab-df-convert\" onclick=\"convertToInteractive('df-d60ba444-206b-4562-8dfa-5f0568dc4e72')\"\n",
              "              title=\"Convert this dataframe to an interactive table.\"\n",
              "              style=\"display:none;\">\n",
              "        \n",
              "  <svg xmlns=\"http://www.w3.org/2000/svg\" height=\"24px\"viewBox=\"0 0 24 24\"\n",
              "       width=\"24px\">\n",
              "    <path d=\"M0 0h24v24H0V0z\" fill=\"none\"/>\n",
              "    <path d=\"M18.56 5.44l.94 2.06.94-2.06 2.06-.94-2.06-.94-.94-2.06-.94 2.06-2.06.94zm-11 1L8.5 8.5l.94-2.06 2.06-.94-2.06-.94L8.5 2.5l-.94 2.06-2.06.94zm10 10l.94 2.06.94-2.06 2.06-.94-2.06-.94-.94-2.06-.94 2.06-2.06.94z\"/><path d=\"M17.41 7.96l-1.37-1.37c-.4-.4-.92-.59-1.43-.59-.52 0-1.04.2-1.43.59L10.3 9.45l-7.72 7.72c-.78.78-.78 2.05 0 2.83L4 21.41c.39.39.9.59 1.41.59.51 0 1.02-.2 1.41-.59l7.78-7.78 2.81-2.81c.8-.78.8-2.07 0-2.86zM5.41 20L4 18.59l7.72-7.72 1.47 1.35L5.41 20z\"/>\n",
              "  </svg>\n",
              "      </button>\n",
              "      \n",
              "  <style>\n",
              "    .colab-df-container {\n",
              "      display:flex;\n",
              "      flex-wrap:wrap;\n",
              "      gap: 12px;\n",
              "    }\n",
              "\n",
              "    .colab-df-convert {\n",
              "      background-color: #E8F0FE;\n",
              "      border: none;\n",
              "      border-radius: 50%;\n",
              "      cursor: pointer;\n",
              "      display: none;\n",
              "      fill: #1967D2;\n",
              "      height: 32px;\n",
              "      padding: 0 0 0 0;\n",
              "      width: 32px;\n",
              "    }\n",
              "\n",
              "    .colab-df-convert:hover {\n",
              "      background-color: #E2EBFA;\n",
              "      box-shadow: 0px 1px 2px rgba(60, 64, 67, 0.3), 0px 1px 3px 1px rgba(60, 64, 67, 0.15);\n",
              "      fill: #174EA6;\n",
              "    }\n",
              "\n",
              "    [theme=dark] .colab-df-convert {\n",
              "      background-color: #3B4455;\n",
              "      fill: #D2E3FC;\n",
              "    }\n",
              "\n",
              "    [theme=dark] .colab-df-convert:hover {\n",
              "      background-color: #434B5C;\n",
              "      box-shadow: 0px 1px 3px 1px rgba(0, 0, 0, 0.15);\n",
              "      filter: drop-shadow(0px 1px 2px rgba(0, 0, 0, 0.3));\n",
              "      fill: #FFFFFF;\n",
              "    }\n",
              "  </style>\n",
              "\n",
              "      <script>\n",
              "        const buttonEl =\n",
              "          document.querySelector('#df-d60ba444-206b-4562-8dfa-5f0568dc4e72 button.colab-df-convert');\n",
              "        buttonEl.style.display =\n",
              "          google.colab.kernel.accessAllowed ? 'block' : 'none';\n",
              "\n",
              "        async function convertToInteractive(key) {\n",
              "          const element = document.querySelector('#df-d60ba444-206b-4562-8dfa-5f0568dc4e72');\n",
              "          const dataTable =\n",
              "            await google.colab.kernel.invokeFunction('convertToInteractive',\n",
              "                                                     [key], {});\n",
              "          if (!dataTable) return;\n",
              "\n",
              "          const docLinkHtml = 'Like what you see? Visit the ' +\n",
              "            '<a target=\"_blank\" href=https://colab.research.google.com/notebooks/data_table.ipynb>data table notebook</a>'\n",
              "            + ' to learn more about interactive tables.';\n",
              "          element.innerHTML = '';\n",
              "          dataTable['output_type'] = 'display_data';\n",
              "          await google.colab.output.renderOutput(dataTable, element);\n",
              "          const docLink = document.createElement('div');\n",
              "          docLink.innerHTML = docLinkHtml;\n",
              "          element.appendChild(docLink);\n",
              "        }\n",
              "      </script>\n",
              "    </div>\n",
              "  </div>\n",
              "  "
            ],
            "text/plain": [
              "   Result  White ELO  Black ELO  White Av CP Loss  Black Av CP Loss  ELO_diff\n",
              "0       0     2302.0     1924.0              22.0              46.0     378.0\n",
              "1       1     2302.0     2502.0              12.0              13.0    -200.0\n",
              "2       2     2496.0     2302.0              46.0              28.0     194.0\n",
              "3       0     2509.0     2302.0              22.0              38.0     207.0\n",
              "4       2     2302.0     2405.0              23.0               7.0    -103.0"
            ]
          },
          "execution_count": 18,
          "metadata": {},
          "output_type": "execute_result"
        }
      ],
      "source": [
        "data.head()"
      ]
    },
    {
      "cell_type": "code",
      "execution_count": null,
      "id": "96816ba0",
      "metadata": {
        "id": "96816ba0"
      },
      "outputs": [],
      "source": [
        "#average centipawn loss for the higher rated player \n",
        "acpl_higher = []\n",
        "#average centipawn loss for the lower rated player\n",
        "acpl_lower = []\n",
        "# a method in the pandas library that allows you to iterate over the rows of a DataFrame\n",
        "for index, row in data.iterrows():\n",
        "    if row['ELO_diff'] >= 0:\n",
        "        acpl_higher.append(row['White Av CP Loss'])\n",
        "        acpl_lower.append(row['Black Av CP Loss'])\n",
        "    elif row['ELO_diff'] < 0:\n",
        "        acpl_lower.append(row['White Av CP Loss'])\n",
        "        acpl_higher.append(row['Black Av CP Loss'])"
      ]
    },
    {
      "cell_type": "code",
      "execution_count": null,
      "id": "27aa05db",
      "metadata": {
        "colab": {
          "base_uri": "https://localhost:8080/"
        },
        "id": "27aa05db",
        "outputId": "fd2813b6-99fe-4a78-f03b-deff77abfa0f"
      },
      "outputs": [
        {
          "name": "stdout",
          "output_type": "stream",
          "text": [
            "The average CP loss of the higher rated player was 24.55, while the lower rated player had a CP loss of 30.79\n"
          ]
        }
      ],
      "source": [
        "print(f'The average CP loss of the higher rated player was {np.round(np.mean(acpl_higher),2)}, while the lower rated player had a CP loss of {np.round(np.mean(acpl_lower),2)}') "
      ]
    },
    {
      "cell_type": "code",
      "execution_count": null,
      "id": "1811cf3e",
      "metadata": {
        "id": "1811cf3e"
      },
      "outputs": [],
      "source": [
        "data['ACPL Lower'] = acpl_lower\n",
        "data['ACPL Higher'] = acpl_higher "
      ]
    },
    {
      "cell_type": "code",
      "execution_count": null,
      "id": "f46d4789",
      "metadata": {
        "colab": {
          "base_uri": "https://localhost:8080/",
          "height": 489
        },
        "id": "f46d4789",
        "outputId": "73edde86-f9aa-45ee-da04-6f399497c259"
      },
      "outputs": [
        {
          "data": {
            "text/plain": [
              "Text(0.5, 1.0, 'Higher Rated Player')"
            ]
          },
          "execution_count": 22,
          "metadata": {},
          "output_type": "execute_result"
        },
        {
          "data": {
            "image/png": "[encoded data removed]",
            "text/plain": [
              "<Figure size 640x480 with 1 Axes>"
            ]
          },
          "metadata": {},
          "output_type": "display_data"
        }
      ],
      "source": [
        "p = sns.lineplot(data=data, x='ELO_diff', y='ACPL Higher')\n",
        "p.set(ylim=(0, 120), xlim=(-600, 600))\n",
        "p.set_title('Higher Rated Player')"
      ]
    },
    {
      "cell_type": "code",
      "execution_count": null,
      "id": "232a2fd2",
      "metadata": {
        "colab": {
          "base_uri": "https://localhost:8080/",
          "height": 489
        },
        "id": "232a2fd2",
        "outputId": "91aa9b21-6328-4a70-8fc6-3cdd0d4533aa"
      },
      "outputs": [
        {
          "data": {
            "text/plain": [
              "Text(0.5, 1.0, 'Lower Rated Player')"
            ]
          },
          "execution_count": 23,
          "metadata": {},
          "output_type": "execute_result"
        },
        {
          "data": {
            "image/png": "[encoded data removed]",
            "text/plain": [
              "<Figure size 640x480 with 1 Axes>"
            ]
          },
          "metadata": {},
          "output_type": "display_data"
        }
      ],
      "source": [
        "l = sns.lineplot(data=data, x='ELO_diff', y='ACPL Lower')\n",
        "l.set(ylim=(0, 120), xlim=(-600, 600))\n",
        "l.set_title('Lower Rated Player')"
      ]
    },
    {
      "attachments": {},
      "cell_type": "markdown",
      "id": "4a7202fb",
      "metadata": {
        "id": "4a7202fb"
      },
      "source": [
        "In the case of the lower rated player the ELO difference matters much more than for the higher ELO player, who seems to have more or less the same accuracy whether playing against a player with similiar ELO or a weaker player.\n",
        "\n"
      ]
    },
    {
      "attachments": {},
      "cell_type": "markdown",
      "id": "60747662",
      "metadata": {
        "id": "60747662"
      },
      "source": [
        "# 5. Model Building"
      ]
    },
    {
      "attachments": {},
      "cell_type": "markdown",
      "id": "d460df74",
      "metadata": {
        "id": "d460df74"
      },
      "source": [
        "We can start building our machine learning models. We are going to use several different machine learning models and compare their performance.The models that are going to be used are as follows:\n",
        "\n",
        "- Logistic Regression is a simple and widely-used classification algorithm that is suitable for classification tasks. It is a linear model that uses an equation to make predictions based on the input features, and it is easy to interpret and implement.\n",
        "\n",
        "- A Decision Tree is a type of machine learning algorithm used for classification and regression tasks. It creates a tree-like model of decisions and their possible consequences, with each internal node representing a feature or attribute, and each leaf node representing a class label.\n",
        "\n",
        "- Random forest is an ensemble learning method for classification, regression and other tasks, that operate by constructing a multitude of decision trees at training time and outputting the class that is the mode of the classes (classification) or mean prediction of the individual trees. The idea behind random forest is to decorrelate the trees by training them on different subsets of the data, and to average their predictions. This reduces overfitting and improves the overall performance of the model."
      ]
    },
    {
      "cell_type": "code",
      "execution_count": null,
      "id": "CJgDhiCAzWMC",
      "metadata": {
        "colab": {
          "base_uri": "https://localhost:8080/",
          "height": 206
        },
        "id": "CJgDhiCAzWMC",
        "outputId": "09d50bf2-c08f-4eae-93b4-43df8f796b40"
      },
      "outputs": [
        {
          "data": {
            "text/html": [
              "\n",
              "  <div id=\"df-5816d088-26d1-4352-8e84-2d8c682405cf\">\n",
              "    <div class=\"colab-df-container\">\n",
              "      <div>\n",
              "<style scoped>\n",
              "    .dataframe tbody tr th:only-of-type {\n",
              "        vertical-align: middle;\n",
              "    }\n",
              "\n",
              "    .dataframe tbody tr th {\n",
              "        vertical-align: top;\n",
              "    }\n",
              "\n",
              "    .dataframe thead th {\n",
              "        text-align: right;\n",
              "    }\n",
              "</style>\n",
              "<table border=\"1\" class=\"dataframe\">\n",
              "  <thead>\n",
              "    <tr style=\"text-align: right;\">\n",
              "      <th></th>\n",
              "      <th>Result</th>\n",
              "      <th>White ELO</th>\n",
              "      <th>Black ELO</th>\n",
              "      <th>White Av CP Loss</th>\n",
              "      <th>Black Av CP Loss</th>\n",
              "      <th>ELO_diff</th>\n",
              "      <th>ACPL Lower</th>\n",
              "      <th>ACPL Higher</th>\n",
              "    </tr>\n",
              "  </thead>\n",
              "  <tbody>\n",
              "    <tr>\n",
              "      <th>0</th>\n",
              "      <td>0</td>\n",
              "      <td>2302.0</td>\n",
              "      <td>1924.0</td>\n",
              "      <td>22.0</td>\n",
              "      <td>46.0</td>\n",
              "      <td>378.0</td>\n",
              "      <td>46.0</td>\n",
              "      <td>22.0</td>\n",
              "    </tr>\n",
              "    <tr>\n",
              "      <th>1</th>\n",
              "      <td>1</td>\n",
              "      <td>2302.0</td>\n",
              "      <td>2502.0</td>\n",
              "      <td>12.0</td>\n",
              "      <td>13.0</td>\n",
              "      <td>-200.0</td>\n",
              "      <td>12.0</td>\n",
              "      <td>13.0</td>\n",
              "    </tr>\n",
              "    <tr>\n",
              "      <th>2</th>\n",
              "      <td>2</td>\n",
              "      <td>2496.0</td>\n",
              "      <td>2302.0</td>\n",
              "      <td>46.0</td>\n",
              "      <td>28.0</td>\n",
              "      <td>194.0</td>\n",
              "      <td>28.0</td>\n",
              "      <td>46.0</td>\n",
              "    </tr>\n",
              "    <tr>\n",
              "      <th>3</th>\n",
              "      <td>0</td>\n",
              "      <td>2509.0</td>\n",
              "      <td>2302.0</td>\n",
              "      <td>22.0</td>\n",
              "      <td>38.0</td>\n",
              "      <td>207.0</td>\n",
              "      <td>38.0</td>\n",
              "      <td>22.0</td>\n",
              "    </tr>\n",
              "    <tr>\n",
              "      <th>4</th>\n",
              "      <td>2</td>\n",
              "      <td>2302.0</td>\n",
              "      <td>2405.0</td>\n",
              "      <td>23.0</td>\n",
              "      <td>7.0</td>\n",
              "      <td>-103.0</td>\n",
              "      <td>23.0</td>\n",
              "      <td>7.0</td>\n",
              "    </tr>\n",
              "  </tbody>\n",
              "</table>\n",
              "</div>\n",
              "      <button class=\"colab-df-convert\" onclick=\"convertToInteractive('df-5816d088-26d1-4352-8e84-2d8c682405cf')\"\n",
              "              title=\"Convert this dataframe to an interactive table.\"\n",
              "              style=\"display:none;\">\n",
              "        \n",
              "  <svg xmlns=\"http://www.w3.org/2000/svg\" height=\"24px\"viewBox=\"0 0 24 24\"\n",
              "       width=\"24px\">\n",
              "    <path d=\"M0 0h24v24H0V0z\" fill=\"none\"/>\n",
              "    <path d=\"M18.56 5.44l.94 2.06.94-2.06 2.06-.94-2.06-.94-.94-2.06-.94 2.06-2.06.94zm-11 1L8.5 8.5l.94-2.06 2.06-.94-2.06-.94L8.5 2.5l-.94 2.06-2.06.94zm10 10l.94 2.06.94-2.06 2.06-.94-2.06-.94-.94-2.06-.94 2.06-2.06.94z\"/><path d=\"M17.41 7.96l-1.37-1.37c-.4-.4-.92-.59-1.43-.59-.52 0-1.04.2-1.43.59L10.3 9.45l-7.72 7.72c-.78.78-.78 2.05 0 2.83L4 21.41c.39.39.9.59 1.41.59.51 0 1.02-.2 1.41-.59l7.78-7.78 2.81-2.81c.8-.78.8-2.07 0-2.86zM5.41 20L4 18.59l7.72-7.72 1.47 1.35L5.41 20z\"/>\n",
              "  </svg>\n",
              "      </button>\n",
              "      \n",
              "  <style>\n",
              "    .colab-df-container {\n",
              "      display:flex;\n",
              "      flex-wrap:wrap;\n",
              "      gap: 12px;\n",
              "    }\n",
              "\n",
              "    .colab-df-convert {\n",
              "      background-color: #E8F0FE;\n",
              "      border: none;\n",
              "      border-radius: 50%;\n",
              "      cursor: pointer;\n",
              "      display: none;\n",
              "      fill: #1967D2;\n",
              "      height: 32px;\n",
              "      padding: 0 0 0 0;\n",
              "      width: 32px;\n",
              "    }\n",
              "\n",
              "    .colab-df-convert:hover {\n",
              "      background-color: #E2EBFA;\n",
              "      box-shadow: 0px 1px 2px rgba(60, 64, 67, 0.3), 0px 1px 3px 1px rgba(60, 64, 67, 0.15);\n",
              "      fill: #174EA6;\n",
              "    }\n",
              "\n",
              "    [theme=dark] .colab-df-convert {\n",
              "      background-color: #3B4455;\n",
              "      fill: #D2E3FC;\n",
              "    }\n",
              "\n",
              "    [theme=dark] .colab-df-convert:hover {\n",
              "      background-color: #434B5C;\n",
              "      box-shadow: 0px 1px 3px 1px rgba(0, 0, 0, 0.15);\n",
              "      filter: drop-shadow(0px 1px 2px rgba(0, 0, 0, 0.3));\n",
              "      fill: #FFFFFF;\n",
              "    }\n",
              "  </style>\n",
              "\n",
              "      <script>\n",
              "        const buttonEl =\n",
              "          document.querySelector('#df-5816d088-26d1-4352-8e84-2d8c682405cf button.colab-df-convert');\n",
              "        buttonEl.style.display =\n",
              "          google.colab.kernel.accessAllowed ? 'block' : 'none';\n",
              "\n",
              "        async function convertToInteractive(key) {\n",
              "          const element = document.querySelector('#df-5816d088-26d1-4352-8e84-2d8c682405cf');\n",
              "          const dataTable =\n",
              "            await google.colab.kernel.invokeFunction('convertToInteractive',\n",
              "                                                     [key], {});\n",
              "          if (!dataTable) return;\n",
              "\n",
              "          const docLinkHtml = 'Like what you see? Visit the ' +\n",
              "            '<a target=\"_blank\" href=https://colab.research.google.com/notebooks/data_table.ipynb>data table notebook</a>'\n",
              "            + ' to learn more about interactive tables.';\n",
              "          element.innerHTML = '';\n",
              "          dataTable['output_type'] = 'display_data';\n",
              "          await google.colab.output.renderOutput(dataTable, element);\n",
              "          const docLink = document.createElement('div');\n",
              "          docLink.innerHTML = docLinkHtml;\n",
              "          element.appendChild(docLink);\n",
              "        }\n",
              "      </script>\n",
              "    </div>\n",
              "  </div>\n",
              "  "
            ],
            "text/plain": [
              "   Result  White ELO  Black ELO  White Av CP Loss  Black Av CP Loss  ELO_diff  \\\n",
              "0       0     2302.0     1924.0              22.0              46.0     378.0   \n",
              "1       1     2302.0     2502.0              12.0              13.0    -200.0   \n",
              "2       2     2496.0     2302.0              46.0              28.0     194.0   \n",
              "3       0     2509.0     2302.0              22.0              38.0     207.0   \n",
              "4       2     2302.0     2405.0              23.0               7.0    -103.0   \n",
              "\n",
              "   ACPL Lower  ACPL Higher  \n",
              "0        46.0         22.0  \n",
              "1        12.0         13.0  \n",
              "2        28.0         46.0  \n",
              "3        38.0         22.0  \n",
              "4        23.0          7.0  "
            ]
          },
          "execution_count": 24,
          "metadata": {},
          "output_type": "execute_result"
        }
      ],
      "source": [
        "data.head()"
      ]
    },
    {
      "cell_type": "code",
      "execution_count": null,
      "id": "9cc2a7db",
      "metadata": {
        "id": "9cc2a7db"
      },
      "outputs": [],
      "source": [
        "#assigning x all the features\n",
        "x = data.drop(columns=['Result'])\n",
        "#assinging y the labels\n",
        "y = data['Result']"
      ]
    },
    {
      "attachments": {},
      "cell_type": "markdown",
      "id": "2870b9f9",
      "metadata": {
        "id": "2870b9f9"
      },
      "source": [
        "### 5.1 Splitting the data"
      ]
    },
    {
      "cell_type": "code",
      "execution_count": null,
      "id": "911db413",
      "metadata": {
        "id": "911db413"
      },
      "outputs": [],
      "source": [
        "xtrain, xtest, ytrain, ytest = train_test_split(x, y, test_size=0.20, random_state=23)"
      ]
    },
    {
      "attachments": {},
      "cell_type": "markdown",
      "id": "e09bafce",
      "metadata": {
        "id": "e09bafce"
      },
      "source": [
        "### 5.2 Logistic Regression"
      ]
    },
    {
      "cell_type": "code",
      "execution_count": null,
      "id": "64da9743",
      "metadata": {
        "id": "64da9743"
      },
      "outputs": [],
      "source": [
        "lr_model=LogisticRegression(multi_class='multinomial',solver='newton-cg')\n",
        "lr_model.fit(xtrain, ytrain)\n",
        "y_lr_train_pred = lr_model.predict(xtrain)\n",
        "y_lr_test_pred = lr_model.predict(xtest)"
      ]
    },
    {
      "cell_type": "code",
      "execution_count": null,
      "id": "13e38a3a",
      "metadata": {
        "colab": {
          "base_uri": "https://localhost:8080/"
        },
        "id": "13e38a3a",
        "outputId": "165f3497-1852-404f-8398-afc6f146f5fe"
      },
      "outputs": [
        {
          "name": "stdout",
          "output_type": "stream",
          "text": [
            "Train score 0.9556191839656406\n",
            "Test score 0.9618320610687023\n"
          ]
        }
      ],
      "source": [
        "print(f'Train score {accuracy_score(y_lr_train_pred,ytrain)}')\n",
        "print(f'Test score {accuracy_score(y_lr_test_pred,ytest)}')"
      ]
    },
    {
      "cell_type": "code",
      "execution_count": null,
      "id": "89c15173",
      "metadata": {
        "colab": {
          "base_uri": "https://localhost:8080/"
        },
        "id": "89c15173",
        "outputId": "ea6e4729-30e5-427b-cf64-56f4920607f7"
      },
      "outputs": [
        {
          "name": "stdout",
          "output_type": "stream",
          "text": [
            "              precision    recall  f1-score   support\n",
            "\n",
            "           0       0.98      0.96      0.97       743\n",
            "           1       0.94      0.97      0.96       856\n",
            "           2       0.97      0.96      0.96       497\n",
            "\n",
            "    accuracy                           0.96      2096\n",
            "   macro avg       0.96      0.96      0.96      2096\n",
            "weighted avg       0.96      0.96      0.96      2096\n",
            "\n"
          ]
        }
      ],
      "source": [
        "print(classification_report(ytest, y_lr_test_pred))"
      ]
    },
    {
      "attachments": {},
      "cell_type": "markdown",
      "id": "5e5cca4e",
      "metadata": {
        "id": "5e5cca4e"
      },
      "source": [
        "##### 5.2.1 Confusion Matrix"
      ]
    },
    {
      "cell_type": "code",
      "execution_count": null,
      "id": "630b480d",
      "metadata": {
        "id": "630b480d"
      },
      "outputs": [],
      "source": [
        "#function for ploting the confusion matrix\n",
        "def plot_confusionmatrix(ytrain_pred,ytrain,dom):\n",
        "    print(f'{dom} confusion matrix')\n",
        "    cf = confusion_matrix(ytrain_pred,ytrain)\n",
        "    sns.heatmap(cf,annot=True,cmap='Blues',fmt='g')\n",
        "    plt.tight_layout()\n",
        "    plt.show()"
      ]
    },
    {
      "cell_type": "code",
      "execution_count": null,
      "id": "fe899895",
      "metadata": {
        "colab": {
          "base_uri": "https://localhost:8080/",
          "height": 992
        },
        "id": "fe899895",
        "outputId": "265b3149-00fc-4528-e71c-03c5870ef9c1"
      },
      "outputs": [
        {
          "name": "stdout",
          "output_type": "stream",
          "text": [
            "Train confusion matrix\n"
          ]
        },
        {
          "data": {
            "image/png": "[encoded data removed]",
            "text/plain": [
              "<Figure size 640x480 with 2 Axes>"
            ]
          },
          "metadata": {},
          "output_type": "display_data"
        },
        {
          "name": "stdout",
          "output_type": "stream",
          "text": [
            "Test confusion matrix\n"
          ]
        },
        {
          "data": {
            "image/png": "[encoded data removed]",
            "text/plain": [
              "<Figure size 640x480 with 2 Axes>"
            ]
          },
          "metadata": {},
          "output_type": "display_data"
        }
      ],
      "source": [
        "plot_confusionmatrix(y_lr_train_pred,ytrain,dom='Train')\n",
        "plot_confusionmatrix(y_lr_test_pred,ytest,dom='Test')"
      ]
    },
    {
      "attachments": {},
      "cell_type": "markdown",
      "id": "66fc9bf5",
      "metadata": {
        "id": "66fc9bf5"
      },
      "source": [
        "##### 5.2.2 Cross Validation"
      ]
    },
    {
      "cell_type": "code",
      "execution_count": null,
      "id": "c39ce758",
      "metadata": {
        "colab": {
          "base_uri": "https://localhost:8080/"
        },
        "id": "c39ce758",
        "outputId": "72b4bc6c-1420-44e1-f010-d7e473eb3c58"
      },
      "outputs": [
        {
          "name": "stdout",
          "output_type": "stream",
          "text": [
            "Mean score: 0.956\n",
            "Standard deviation: 0.007\n"
          ]
        }
      ],
      "source": [
        "# Perform 10-fold cross-validation on the model\n",
        "scores = cross_val_score(lr_model, xtrain, ytrain, cv=10)\n",
        "\n",
        "# Print the mean and standard deviation of the scores\n",
        "print(f'Mean score: {scores.mean():.3f}')\n",
        "print(f'Standard deviation: {scores.std():.3f}')\n"
      ]
    },
    {
      "attachments": {},
      "cell_type": "markdown",
      "id": "cbb0182f",
      "metadata": {
        "id": "cbb0182f"
      },
      "source": [
        "### 5.3 Decision Tree Classifier"
      ]
    },
    {
      "cell_type": "code",
      "execution_count": null,
      "id": "8e75b7b5",
      "metadata": {
        "id": "8e75b7b5"
      },
      "outputs": [],
      "source": [
        "dtc_model = tree.DecisionTreeClassifier(random_state=0)\n",
        "dtc_model.fit(xtrain,ytrain)\n",
        "y_dtc_train_pred = dtc_model.predict(xtrain)\n",
        "y_dtc_test_pred = dtc_model.predict(xtest)"
      ]
    },
    {
      "cell_type": "code",
      "execution_count": null,
      "id": "3442a1b6",
      "metadata": {
        "colab": {
          "base_uri": "https://localhost:8080/"
        },
        "id": "3442a1b6",
        "outputId": "2635ae71-f8d5-4f61-cc7c-e167d2aeb6f4"
      },
      "outputs": [
        {
          "name": "stdout",
          "output_type": "stream",
          "text": [
            "Train score 1.0\n",
            "Test score 0.9351145038167938\n"
          ]
        }
      ],
      "source": [
        "print(f'Train score {accuracy_score(y_dtc_train_pred,ytrain)}')\n",
        "print(f'Test score {accuracy_score(y_dtc_test_pred,ytest)}')"
      ]
    },
    {
      "cell_type": "code",
      "execution_count": null,
      "id": "b94ee8cd",
      "metadata": {
        "colab": {
          "base_uri": "https://localhost:8080/"
        },
        "id": "b94ee8cd",
        "outputId": "0bdd3d2c-dc79-46d8-c1ad-e6ff5d90b41f"
      },
      "outputs": [
        {
          "name": "stdout",
          "output_type": "stream",
          "text": [
            "              precision    recall  f1-score   support\n",
            "\n",
            "           0       0.94      0.93      0.94       743\n",
            "           1       0.92      0.93      0.92       856\n",
            "           2       0.95      0.95      0.95       497\n",
            "\n",
            "    accuracy                           0.94      2096\n",
            "   macro avg       0.94      0.94      0.94      2096\n",
            "weighted avg       0.94      0.94      0.94      2096\n",
            "\n"
          ]
        }
      ],
      "source": [
        "print(classification_report(ytest, y_dtc_test_pred))"
      ]
    },
    {
      "attachments": {},
      "cell_type": "markdown",
      "id": "4f91fe57",
      "metadata": {
        "id": "4f91fe57"
      },
      "source": [
        "##### 5.3.1 Confusion Matrix "
      ]
    },
    {
      "cell_type": "code",
      "execution_count": null,
      "id": "84b389b1",
      "metadata": {
        "colab": {
          "base_uri": "https://localhost:8080/",
          "height": 992
        },
        "id": "84b389b1",
        "outputId": "cc1b4fb1-7d2b-4740-b867-2da866d6d6ec"
      },
      "outputs": [
        {
          "name": "stdout",
          "output_type": "stream",
          "text": [
            "Train data confusion matrix\n"
          ]
        },
        {
          "data": {
            "image/png": "[encoded data removed]",
            "text/plain": [
              "<Figure size 640x480 with 2 Axes>"
            ]
          },
          "metadata": {},
          "output_type": "display_data"
        },
        {
          "name": "stdout",
          "output_type": "stream",
          "text": [
            "Test data confusion matrix\n"
          ]
        },
        {
          "data": {
            "image/png": "[encoded data removed]",
            "text/plain": [
              "<Figure size 640x480 with 2 Axes>"
            ]
          },
          "metadata": {},
          "output_type": "display_data"
        }
      ],
      "source": [
        "plot_confusionmatrix(y_dtc_train_pred,ytrain,dom='Train data')\n",
        "plot_confusionmatrix(y_dtc_test_pred,ytest,dom='Test data')"
      ]
    },
    {
      "attachments": {},
      "cell_type": "markdown",
      "id": "7c7fff54",
      "metadata": {
        "id": "7c7fff54"
      },
      "source": [
        "##### 5.3.2 Cross Validation"
      ]
    },
    {
      "cell_type": "code",
      "execution_count": null,
      "id": "64019090",
      "metadata": {
        "colab": {
          "base_uri": "https://localhost:8080/"
        },
        "id": "64019090",
        "outputId": "343fa2b0-eaf6-422a-d012-f908261ae240"
      },
      "outputs": [
        {
          "name": "stdout",
          "output_type": "stream",
          "text": [
            "Mean score: 0.934\n",
            "Standard deviation: 0.012\n"
          ]
        }
      ],
      "source": [
        "# Perform 10-fold cross-validation on the model\n",
        "scores = cross_val_score(dtc_model, xtrain, ytrain, cv=10)\n",
        "\n",
        "# Print the mean and standard deviation of the scores\n",
        "print(f'Mean score: {scores.mean():.3f}')\n",
        "print(f'Standard deviation: {scores.std():.3f}')"
      ]
    },
    {
      "attachments": {},
      "cell_type": "markdown",
      "id": "cd27a24d",
      "metadata": {
        "id": "cd27a24d"
      },
      "source": [
        "##### 5.3.3 Hyperparameter tuning"
      ]
    },
    {
      "cell_type": "code",
      "execution_count": null,
      "id": "2063dc82",
      "metadata": {
        "colab": {
          "base_uri": "https://localhost:8080/",
          "height": 117
        },
        "id": "2063dc82",
        "outputId": "1f08b3fd-f2b8-4f71-e9e3-667fd39a4739"
      },
      "outputs": [
        {
          "data": {
            "text/html": [
              "<style>#sk-container-id-1 {color: black;background-color: white;}#sk-container-id-1 pre{padding: 0;}#sk-container-id-1 div.sk-toggleable {background-color: white;}#sk-container-id-1 label.sk-toggleable__label {cursor: pointer;display: block;width: 100%;margin-bottom: 0;padding: 0.3em;box-sizing: border-box;text-align: center;}#sk-container-id-1 label.sk-toggleable__label-arrow:before {content: \"▸\";float: left;margin-right: 0.25em;color: #696969;}#sk-container-id-1 label.sk-toggleable__label-arrow:hover:before {color: black;}#sk-container-id-1 div.sk-estimator:hover label.sk-toggleable__label-arrow:before {color: black;}#sk-container-id-1 div.sk-toggleable__content {max-height: 0;max-width: 0;overflow: hidden;text-align: left;background-color: #f0f8ff;}#sk-container-id-1 div.sk-toggleable__content pre {margin: 0.2em;color: black;border-radius: 0.25em;background-color: #f0f8ff;}#sk-container-id-1 input.sk-toggleable__control:checked~div.sk-toggleable__content {max-height: 200px;max-width: 100%;overflow: auto;}#sk-container-id-1 input.sk-toggleable__control:checked~label.sk-toggleable__label-arrow:before {content: \"▾\";}#sk-container-id-1 div.sk-estimator input.sk-toggleable__control:checked~label.sk-toggleable__label {background-color: #d4ebff;}#sk-container-id-1 div.sk-label input.sk-toggleable__control:checked~label.sk-toggleable__label {background-color: #d4ebff;}#sk-container-id-1 input.sk-hidden--visually {border: 0;clip: rect(1px 1px 1px 1px);clip: rect(1px, 1px, 1px, 1px);height: 1px;margin: -1px;overflow: hidden;padding: 0;position: absolute;width: 1px;}#sk-container-id-1 div.sk-estimator {font-family: monospace;background-color: #f0f8ff;border: 1px dotted black;border-radius: 0.25em;box-sizing: border-box;margin-bottom: 0.5em;}#sk-container-id-1 div.sk-estimator:hover {background-color: #d4ebff;}#sk-container-id-1 div.sk-parallel-item::after {content: \"\";width: 100%;border-bottom: 1px solid gray;flex-grow: 1;}#sk-container-id-1 div.sk-label:hover label.sk-toggleable__label {background-color: #d4ebff;}#sk-container-id-1 div.sk-serial::before {content: \"\";position: absolute;border-left: 1px solid gray;box-sizing: border-box;top: 0;bottom: 0;left: 50%;z-index: 0;}#sk-container-id-1 div.sk-serial {display: flex;flex-direction: column;align-items: center;background-color: white;padding-right: 0.2em;padding-left: 0.2em;position: relative;}#sk-container-id-1 div.sk-item {position: relative;z-index: 1;}#sk-container-id-1 div.sk-parallel {display: flex;align-items: stretch;justify-content: center;background-color: white;position: relative;}#sk-container-id-1 div.sk-item::before, #sk-container-id-1 div.sk-parallel-item::before {content: \"\";position: absolute;border-left: 1px solid gray;box-sizing: border-box;top: 0;bottom: 0;left: 50%;z-index: -1;}#sk-container-id-1 div.sk-parallel-item {display: flex;flex-direction: column;z-index: 1;position: relative;background-color: white;}#sk-container-id-1 div.sk-parallel-item:first-child::after {align-self: flex-end;width: 50%;}#sk-container-id-1 div.sk-parallel-item:last-child::after {align-self: flex-start;width: 50%;}#sk-container-id-1 div.sk-parallel-item:only-child::after {width: 0;}#sk-container-id-1 div.sk-dashed-wrapped {border: 1px dashed gray;margin: 0 0.4em 0.5em 0.4em;box-sizing: border-box;padding-bottom: 0.4em;background-color: white;}#sk-container-id-1 div.sk-label label {font-family: monospace;font-weight: bold;display: inline-block;line-height: 1.2em;}#sk-container-id-1 div.sk-label-container {text-align: center;}#sk-container-id-1 div.sk-container {/* jupyter's `normalize.less` sets `[hidden] { display: none; }` but bootstrap.min.css set `[hidden] { display: none !important; }` so we also need the `!important` here to be able to override the default hidden behavior on the sphinx rendered scikit-learn.org. See: https://github.com/scikit-learn/scikit-learn/issues/21755 */display: inline-block !important;position: relative;}#sk-container-id-1 div.sk-text-repr-fallback {display: none;}</style><div id=\"sk-container-id-1\" class=\"sk-top-container\"><div class=\"sk-text-repr-fallback\"><pre>GridSearchCV(estimator=DecisionTreeClassifier(),\n",
              "             param_grid={&#x27;max_depth&#x27;: [2, 4, 6, 8, 10, 12],\n",
              "                         &#x27;min_samples_leaf&#x27;: [1, 2],\n",
              "                         &#x27;min_samples_split&#x27;: [2, 3, 4]})</pre><b>In a Jupyter environment, please rerun this cell to show the HTML representation or trust the notebook. <br />On GitHub, the HTML representation is unable to render, please try loading this page with nbviewer.org.</b></div><div class=\"sk-container\" hidden><div class=\"sk-item sk-dashed-wrapped\"><div class=\"sk-label-container\"><div class=\"sk-label sk-toggleable\"><input class=\"sk-toggleable__control sk-hidden--visually\" id=\"sk-estimator-id-1\" type=\"checkbox\" ><label for=\"sk-estimator-id-1\" class=\"sk-toggleable__label sk-toggleable__label-arrow\">GridSearchCV</label><div class=\"sk-toggleable__content\"><pre>GridSearchCV(estimator=DecisionTreeClassifier(),\n",
              "             param_grid={&#x27;max_depth&#x27;: [2, 4, 6, 8, 10, 12],\n",
              "                         &#x27;min_samples_leaf&#x27;: [1, 2],\n",
              "                         &#x27;min_samples_split&#x27;: [2, 3, 4]})</pre></div></div></div><div class=\"sk-parallel\"><div class=\"sk-parallel-item\"><div class=\"sk-item\"><div class=\"sk-label-container\"><div class=\"sk-label sk-toggleable\"><input class=\"sk-toggleable__control sk-hidden--visually\" id=\"sk-estimator-id-2\" type=\"checkbox\" ><label for=\"sk-estimator-id-2\" class=\"sk-toggleable__label sk-toggleable__label-arrow\">estimator: DecisionTreeClassifier</label><div class=\"sk-toggleable__content\"><pre>DecisionTreeClassifier()</pre></div></div></div><div class=\"sk-serial\"><div class=\"sk-item\"><div class=\"sk-estimator sk-toggleable\"><input class=\"sk-toggleable__control sk-hidden--visually\" id=\"sk-estimator-id-3\" type=\"checkbox\" ><label for=\"sk-estimator-id-3\" class=\"sk-toggleable__label sk-toggleable__label-arrow\">DecisionTreeClassifier</label><div class=\"sk-toggleable__content\"><pre>DecisionTreeClassifier()</pre></div></div></div></div></div></div></div></div></div></div>"
            ],
            "text/plain": [
              "GridSearchCV(estimator=DecisionTreeClassifier(),\n",
              "             param_grid={'max_depth': [2, 4, 6, 8, 10, 12],\n",
              "                         'min_samples_leaf': [1, 2],\n",
              "                         'min_samples_split': [2, 3, 4]})"
            ]
          },
          "execution_count": 38,
          "metadata": {},
          "output_type": "execute_result"
        }
      ],
      "source": [
        "params = {'max_depth':[2,4,6,8,10,12],\n",
        "         'min_samples_split':[2,3,4],\n",
        "         'min_samples_leaf':[1,2]}\n",
        "dtc_model = tree.DecisionTreeClassifier()\n",
        "gcv = GridSearchCV(estimator=dtc_model,param_grid=params)\n",
        "gcv.fit(xtrain,ytrain)"
      ]
    },
    {
      "cell_type": "code",
      "execution_count": null,
      "id": "35e5b075",
      "metadata": {
        "colab": {
          "base_uri": "https://localhost:8080/"
        },
        "id": "35e5b075",
        "outputId": "87dcd1ac-a2b3-4fc9-e7d2-b3f71acfb1b4"
      },
      "outputs": [
        {
          "name": "stdout",
          "output_type": "stream",
          "text": [
            "Train score 0.9695776664280601\n",
            "Test score 0.9437022900763359\n"
          ]
        }
      ],
      "source": [
        "gcv_model = gcv.best_estimator_\n",
        "gcv_model.fit(xtrain,ytrain)\n",
        "y_gcv_train_pred = gcv_model.predict(xtrain)\n",
        "y_gcv_test_pred = gcv_model.predict(xtest)\n",
        "print(f'Train score {accuracy_score(y_gcv_train_pred,ytrain)}')\n",
        "print(f'Test score {accuracy_score(y_gcv_test_pred,ytest)}')"
      ]
    },
    {
      "attachments": {},
      "cell_type": "markdown",
      "id": "258d62cc",
      "metadata": {
        "id": "258d62cc"
      },
      "source": [
        "##### 5.3.3.1 Tuned Confusion Matrix"
      ]
    },
    {
      "cell_type": "code",
      "execution_count": null,
      "id": "e3cd2225",
      "metadata": {
        "colab": {
          "base_uri": "https://localhost:8080/",
          "height": 991
        },
        "id": "e3cd2225",
        "outputId": "0fe226c5-ba84-47f4-bc35-ca5f777bbc09"
      },
      "outputs": [
        {
          "name": "stdout",
          "output_type": "stream",
          "text": [
            "Train confusion matrix\n"
          ]
        },
        {
          "data": {
            "image/png": "[encoded data removed]",
            "text/plain": [
              "<Figure size 640x480 with 2 Axes>"
            ]
          },
          "metadata": {},
          "output_type": "display_data"
        },
        {
          "name": "stdout",
          "output_type": "stream",
          "text": [
            "Test confusion matrix\n"
          ]
        },
        {
          "data": {
            "image/png": "[encoded data removed]",
            "text/plain": [
              "<Figure size 640x480 with 2 Axes>"
            ]
          },
          "metadata": {},
          "output_type": "display_data"
        }
      ],
      "source": [
        "plot_confusionmatrix(y_gcv_train_pred,ytrain,dom='Train')\n",
        "plot_confusionmatrix(y_gcv_test_pred,ytest,dom='Test')"
      ]
    },
    {
      "attachments": {},
      "cell_type": "markdown",
      "id": "d60f1f32",
      "metadata": {
        "id": "d60f1f32"
      },
      "source": [
        "### 5.4 Random Forest Classifier"
      ]
    },
    {
      "cell_type": "code",
      "execution_count": null,
      "id": "dcff6551",
      "metadata": {
        "id": "dcff6551"
      },
      "outputs": [],
      "source": [
        "rf_model = RandomForestClassifier()\n",
        "rf_model.fit(xtrain, ytrain)\n",
        "y_rf_train_pred = rf_model.predict(xtrain)\n",
        "y_rf_test_pred = rf_model.predict(xtest)"
      ]
    },
    {
      "cell_type": "code",
      "execution_count": null,
      "id": "02377ef5",
      "metadata": {
        "colab": {
          "base_uri": "https://localhost:8080/"
        },
        "id": "02377ef5",
        "outputId": "6aa5b1e8-af4e-457b-bc3d-f24746a76837"
      },
      "outputs": [
        {
          "name": "stdout",
          "output_type": "stream",
          "text": [
            "Train score 1.0\n",
            "Test score 0.9561068702290076\n"
          ]
        }
      ],
      "source": [
        "print(f'Train score {accuracy_score(y_rf_train_pred,ytrain)}')\n",
        "print(f'Test score {accuracy_score(y_rf_test_pred,ytest)}')"
      ]
    },
    {
      "cell_type": "code",
      "execution_count": null,
      "id": "a59fd70e",
      "metadata": {
        "colab": {
          "base_uri": "https://localhost:8080/"
        },
        "id": "a59fd70e",
        "outputId": "063c3e26-29cd-44d6-be2c-7c5bdcd4407a"
      },
      "outputs": [
        {
          "name": "stdout",
          "output_type": "stream",
          "text": [
            "              precision    recall  f1-score   support\n",
            "\n",
            "           0       0.97      0.96      0.96       743\n",
            "           1       0.95      0.95      0.95       856\n",
            "           2       0.96      0.96      0.96       497\n",
            "\n",
            "    accuracy                           0.96      2096\n",
            "   macro avg       0.96      0.96      0.96      2096\n",
            "weighted avg       0.96      0.96      0.96      2096\n",
            "\n"
          ]
        }
      ],
      "source": [
        "print(classification_report(ytest, y_rf_test_pred))"
      ]
    },
    {
      "attachments": {},
      "cell_type": "markdown",
      "id": "cac226fe",
      "metadata": {
        "id": "cac226fe"
      },
      "source": [
        "##### 5.4.1 Confusion Matrix"
      ]
    },
    {
      "cell_type": "code",
      "execution_count": null,
      "id": "655985c1",
      "metadata": {
        "colab": {
          "base_uri": "https://localhost:8080/",
          "height": 992
        },
        "id": "655985c1",
        "outputId": "8bdacc09-806d-44ab-9b00-b74fa465218d"
      },
      "outputs": [
        {
          "name": "stdout",
          "output_type": "stream",
          "text": [
            "Train data confusion matrix\n"
          ]
        },
        {
          "data": {
            "image/png": "[encoded data removed]",
            "text/plain": [
              "<Figure size 640x480 with 2 Axes>"
            ]
          },
          "metadata": {},
          "output_type": "display_data"
        },
        {
          "name": "stdout",
          "output_type": "stream",
          "text": [
            "Test data confusion matrix\n"
          ]
        },
        {
          "data": {
            "image/png": "[encoded data removed]",
            "text/plain": [
              "<Figure size 640x480 with 2 Axes>"
            ]
          },
          "metadata": {},
          "output_type": "display_data"
        }
      ],
      "source": [
        "plot_confusionmatrix(y_rf_train_pred,ytrain,dom='Train data')\n",
        "plot_confusionmatrix(y_rf_test_pred,ytest,dom='Test data')"
      ]
    },
    {
      "attachments": {},
      "cell_type": "markdown",
      "id": "05376640",
      "metadata": {
        "id": "05376640"
      },
      "source": [
        "##### 5.4.2 Cross Validation"
      ]
    },
    {
      "cell_type": "code",
      "execution_count": null,
      "id": "9a2d0467",
      "metadata": {
        "colab": {
          "base_uri": "https://localhost:8080/"
        },
        "id": "9a2d0467",
        "outputId": "49f03279-f5ac-4da6-bc63-487578ea5d20"
      },
      "outputs": [
        {
          "name": "stdout",
          "output_type": "stream",
          "text": [
            "Mean score: 0.955\n",
            "Standard deviation: 0.009\n"
          ]
        }
      ],
      "source": [
        "# Perform 10-fold cross-validation on the model\n",
        "scores = cross_val_score(rf_model, xtrain, ytrain, cv=10)\n",
        "\n",
        "# Print the mean and standard deviation of the scores\n",
        "print(f'Mean score: {scores.mean():.3f}')\n",
        "print(f'Standard deviation: {scores.std():.3f}')"
      ]
    },
    {
      "attachments": {},
      "cell_type": "markdown",
      "id": "_Bvxh3vV0t9L",
      "metadata": {
        "id": "_Bvxh3vV0t9L"
      },
      "source": [
        "### 5.5 Boosting"
      ]
    },
    {
      "attachments": {},
      "cell_type": "markdown",
      "id": "X2x-ks_d1NbG",
      "metadata": {
        "id": "X2x-ks_d1NbG"
      },
      "source": [
        "#### 5.5.1 Gradient Boosting"
      ]
    },
    {
      "cell_type": "code",
      "execution_count": null,
      "id": "sLyeOOpRMC9a",
      "metadata": {
        "colab": {
          "base_uri": "https://localhost:8080/",
          "height": 74
        },
        "id": "sLyeOOpRMC9a",
        "outputId": "1804debb-df77-4645-e27d-bdb2cae0b1f8"
      },
      "outputs": [
        {
          "data": {
            "text/html": [
              "<style>#sk-container-id-2 {color: black;background-color: white;}#sk-container-id-2 pre{padding: 0;}#sk-container-id-2 div.sk-toggleable {background-color: white;}#sk-container-id-2 label.sk-toggleable__label {cursor: pointer;display: block;width: 100%;margin-bottom: 0;padding: 0.3em;box-sizing: border-box;text-align: center;}#sk-container-id-2 label.sk-toggleable__label-arrow:before {content: \"▸\";float: left;margin-right: 0.25em;color: #696969;}#sk-container-id-2 label.sk-toggleable__label-arrow:hover:before {color: black;}#sk-container-id-2 div.sk-estimator:hover label.sk-toggleable__label-arrow:before {color: black;}#sk-container-id-2 div.sk-toggleable__content {max-height: 0;max-width: 0;overflow: hidden;text-align: left;background-color: #f0f8ff;}#sk-container-id-2 div.sk-toggleable__content pre {margin: 0.2em;color: black;border-radius: 0.25em;background-color: #f0f8ff;}#sk-container-id-2 input.sk-toggleable__control:checked~div.sk-toggleable__content {max-height: 200px;max-width: 100%;overflow: auto;}#sk-container-id-2 input.sk-toggleable__control:checked~label.sk-toggleable__label-arrow:before {content: \"▾\";}#sk-container-id-2 div.sk-estimator input.sk-toggleable__control:checked~label.sk-toggleable__label {background-color: #d4ebff;}#sk-container-id-2 div.sk-label input.sk-toggleable__control:checked~label.sk-toggleable__label {background-color: #d4ebff;}#sk-container-id-2 input.sk-hidden--visually {border: 0;clip: rect(1px 1px 1px 1px);clip: rect(1px, 1px, 1px, 1px);height: 1px;margin: -1px;overflow: hidden;padding: 0;position: absolute;width: 1px;}#sk-container-id-2 div.sk-estimator {font-family: monospace;background-color: #f0f8ff;border: 1px dotted black;border-radius: 0.25em;box-sizing: border-box;margin-bottom: 0.5em;}#sk-container-id-2 div.sk-estimator:hover {background-color: #d4ebff;}#sk-container-id-2 div.sk-parallel-item::after {content: \"\";width: 100%;border-bottom: 1px solid gray;flex-grow: 1;}#sk-container-id-2 div.sk-label:hover label.sk-toggleable__label {background-color: #d4ebff;}#sk-container-id-2 div.sk-serial::before {content: \"\";position: absolute;border-left: 1px solid gray;box-sizing: border-box;top: 0;bottom: 0;left: 50%;z-index: 0;}#sk-container-id-2 div.sk-serial {display: flex;flex-direction: column;align-items: center;background-color: white;padding-right: 0.2em;padding-left: 0.2em;position: relative;}#sk-container-id-2 div.sk-item {position: relative;z-index: 1;}#sk-container-id-2 div.sk-parallel {display: flex;align-items: stretch;justify-content: center;background-color: white;position: relative;}#sk-container-id-2 div.sk-item::before, #sk-container-id-2 div.sk-parallel-item::before {content: \"\";position: absolute;border-left: 1px solid gray;box-sizing: border-box;top: 0;bottom: 0;left: 50%;z-index: -1;}#sk-container-id-2 div.sk-parallel-item {display: flex;flex-direction: column;z-index: 1;position: relative;background-color: white;}#sk-container-id-2 div.sk-parallel-item:first-child::after {align-self: flex-end;width: 50%;}#sk-container-id-2 div.sk-parallel-item:last-child::after {align-self: flex-start;width: 50%;}#sk-container-id-2 div.sk-parallel-item:only-child::after {width: 0;}#sk-container-id-2 div.sk-dashed-wrapped {border: 1px dashed gray;margin: 0 0.4em 0.5em 0.4em;box-sizing: border-box;padding-bottom: 0.4em;background-color: white;}#sk-container-id-2 div.sk-label label {font-family: monospace;font-weight: bold;display: inline-block;line-height: 1.2em;}#sk-container-id-2 div.sk-label-container {text-align: center;}#sk-container-id-2 div.sk-container {/* jupyter's `normalize.less` sets `[hidden] { display: none; }` but bootstrap.min.css set `[hidden] { display: none !important; }` so we also need the `!important` here to be able to override the default hidden behavior on the sphinx rendered scikit-learn.org. See: https://github.com/scikit-learn/scikit-learn/issues/21755 */display: inline-block !important;position: relative;}#sk-container-id-2 div.sk-text-repr-fallback {display: none;}</style><div id=\"sk-container-id-2\" class=\"sk-top-container\"><div class=\"sk-text-repr-fallback\"><pre>GradientBoostingClassifier(learning_rate=0.21, max_depth=7, n_estimators=35)</pre><b>In a Jupyter environment, please rerun this cell to show the HTML representation or trust the notebook. <br />On GitHub, the HTML representation is unable to render, please try loading this page with nbviewer.org.</b></div><div class=\"sk-container\" hidden><div class=\"sk-item\"><div class=\"sk-estimator sk-toggleable\"><input class=\"sk-toggleable__control sk-hidden--visually\" id=\"sk-estimator-id-4\" type=\"checkbox\" checked><label for=\"sk-estimator-id-4\" class=\"sk-toggleable__label sk-toggleable__label-arrow\">GradientBoostingClassifier</label><div class=\"sk-toggleable__content\"><pre>GradientBoostingClassifier(learning_rate=0.21, max_depth=7, n_estimators=35)</pre></div></div></div></div></div>"
            ],
            "text/plain": [
              "GradientBoostingClassifier(learning_rate=0.21, max_depth=7, n_estimators=35)"
            ]
          },
          "execution_count": 46,
          "metadata": {},
          "output_type": "execute_result"
        }
      ],
      "source": [
        "gbr=GradientBoostingClassifier(max_depth=7,n_estimators=35,learning_rate=0.21)\n",
        "gbr.fit(xtrain,ytrain)"
      ]
    },
    {
      "cell_type": "code",
      "execution_count": null,
      "id": "DmI56HsNMDKb",
      "metadata": {
        "colab": {
          "base_uri": "https://localhost:8080/"
        },
        "id": "DmI56HsNMDKb",
        "outputId": "4e345065-6484-4e47-de36-76ae40cd1bf2"
      },
      "outputs": [
        {
          "name": "stdout",
          "output_type": "stream",
          "text": [
            "Test score 0.9575381679389313\n"
          ]
        }
      ],
      "source": [
        "y_gbr_pred=gbr.predict(xtest)\n",
        "print(f'Test score {accuracy_score(y_gbr_pred,ytest)}')"
      ]
    },
    {
      "attachments": {},
      "cell_type": "markdown",
      "id": "Nljj1--H12PA",
      "metadata": {
        "id": "Nljj1--H12PA"
      },
      "source": [
        "#### 5.5.2 Extreme Gradient Boosting"
      ]
    },
    {
      "cell_type": "code",
      "execution_count": null,
      "id": "nx9Vm72FXs2n",
      "metadata": {
        "colab": {
          "base_uri": "https://localhost:8080/",
          "height": 248
        },
        "id": "nx9Vm72FXs2n",
        "outputId": "ff68e5bc-295b-46d0-d6d5-9d42101017c5"
      },
      "outputs": [
        {
          "data": {
            "text/html": [
              "<style>#sk-container-id-3 {color: black;background-color: white;}#sk-container-id-3 pre{padding: 0;}#sk-container-id-3 div.sk-toggleable {background-color: white;}#sk-container-id-3 label.sk-toggleable__label {cursor: pointer;display: block;width: 100%;margin-bottom: 0;padding: 0.3em;box-sizing: border-box;text-align: center;}#sk-container-id-3 label.sk-toggleable__label-arrow:before {content: \"▸\";float: left;margin-right: 0.25em;color: #696969;}#sk-container-id-3 label.sk-toggleable__label-arrow:hover:before {color: black;}#sk-container-id-3 div.sk-estimator:hover label.sk-toggleable__label-arrow:before {color: black;}#sk-container-id-3 div.sk-toggleable__content {max-height: 0;max-width: 0;overflow: hidden;text-align: left;background-color: #f0f8ff;}#sk-container-id-3 div.sk-toggleable__content pre {margin: 0.2em;color: black;border-radius: 0.25em;background-color: #f0f8ff;}#sk-container-id-3 input.sk-toggleable__control:checked~div.sk-toggleable__content {max-height: 200px;max-width: 100%;overflow: auto;}#sk-container-id-3 input.sk-toggleable__control:checked~label.sk-toggleable__label-arrow:before {content: \"▾\";}#sk-container-id-3 div.sk-estimator input.sk-toggleable__control:checked~label.sk-toggleable__label {background-color: #d4ebff;}#sk-container-id-3 div.sk-label input.sk-toggleable__control:checked~label.sk-toggleable__label {background-color: #d4ebff;}#sk-container-id-3 input.sk-hidden--visually {border: 0;clip: rect(1px 1px 1px 1px);clip: rect(1px, 1px, 1px, 1px);height: 1px;margin: -1px;overflow: hidden;padding: 0;position: absolute;width: 1px;}#sk-container-id-3 div.sk-estimator {font-family: monospace;background-color: #f0f8ff;border: 1px dotted black;border-radius: 0.25em;box-sizing: border-box;margin-bottom: 0.5em;}#sk-container-id-3 div.sk-estimator:hover {background-color: #d4ebff;}#sk-container-id-3 div.sk-parallel-item::after {content: \"\";width: 100%;border-bottom: 1px solid gray;flex-grow: 1;}#sk-container-id-3 div.sk-label:hover label.sk-toggleable__label {background-color: #d4ebff;}#sk-container-id-3 div.sk-serial::before {content: \"\";position: absolute;border-left: 1px solid gray;box-sizing: border-box;top: 0;bottom: 0;left: 50%;z-index: 0;}#sk-container-id-3 div.sk-serial {display: flex;flex-direction: column;align-items: center;background-color: white;padding-right: 0.2em;padding-left: 0.2em;position: relative;}#sk-container-id-3 div.sk-item {position: relative;z-index: 1;}#sk-container-id-3 div.sk-parallel {display: flex;align-items: stretch;justify-content: center;background-color: white;position: relative;}#sk-container-id-3 div.sk-item::before, #sk-container-id-3 div.sk-parallel-item::before {content: \"\";position: absolute;border-left: 1px solid gray;box-sizing: border-box;top: 0;bottom: 0;left: 50%;z-index: -1;}#sk-container-id-3 div.sk-parallel-item {display: flex;flex-direction: column;z-index: 1;position: relative;background-color: white;}#sk-container-id-3 div.sk-parallel-item:first-child::after {align-self: flex-end;width: 50%;}#sk-container-id-3 div.sk-parallel-item:last-child::after {align-self: flex-start;width: 50%;}#sk-container-id-3 div.sk-parallel-item:only-child::after {width: 0;}#sk-container-id-3 div.sk-dashed-wrapped {border: 1px dashed gray;margin: 0 0.4em 0.5em 0.4em;box-sizing: border-box;padding-bottom: 0.4em;background-color: white;}#sk-container-id-3 div.sk-label label {font-family: monospace;font-weight: bold;display: inline-block;line-height: 1.2em;}#sk-container-id-3 div.sk-label-container {text-align: center;}#sk-container-id-3 div.sk-container {/* jupyter's `normalize.less` sets `[hidden] { display: none; }` but bootstrap.min.css set `[hidden] { display: none !important; }` so we also need the `!important` here to be able to override the default hidden behavior on the sphinx rendered scikit-learn.org. See: https://github.com/scikit-learn/scikit-learn/issues/21755 */display: inline-block !important;position: relative;}#sk-container-id-3 div.sk-text-repr-fallback {display: none;}</style><div id=\"sk-container-id-3\" class=\"sk-top-container\"><div class=\"sk-text-repr-fallback\"><pre>XGBClassifier(base_score=None, booster=None, callbacks=None,\n",
              "              colsample_bylevel=None, colsample_bynode=None,\n",
              "              colsample_bytree=None, early_stopping_rounds=None,\n",
              "              enable_categorical=False, eval_metric=None, feature_types=None,\n",
              "              gamma=None, gpu_id=None, grow_policy=None, importance_type=None,\n",
              "              interaction_constraints=None, learning_rate=0.1, max_bin=None,\n",
              "              max_cat_threshold=None, max_cat_to_onehot=None,\n",
              "              max_delta_step=None, max_depth=6, max_leaves=None,\n",
              "              min_child_weight=None, missing=nan, monotone_constraints=None,\n",
              "              n_estimators=100, n_jobs=None, num_parallel_tree=None,\n",
              "              objective=&#x27;multi:softmax&#x27;, predictor=None, ...)</pre><b>In a Jupyter environment, please rerun this cell to show the HTML representation or trust the notebook. <br />On GitHub, the HTML representation is unable to render, please try loading this page with nbviewer.org.</b></div><div class=\"sk-container\" hidden><div class=\"sk-item\"><div class=\"sk-estimator sk-toggleable\"><input class=\"sk-toggleable__control sk-hidden--visually\" id=\"sk-estimator-id-5\" type=\"checkbox\" checked><label for=\"sk-estimator-id-5\" class=\"sk-toggleable__label sk-toggleable__label-arrow\">XGBClassifier</label><div class=\"sk-toggleable__content\"><pre>XGBClassifier(base_score=None, booster=None, callbacks=None,\n",
              "              colsample_bylevel=None, colsample_bynode=None,\n",
              "              colsample_bytree=None, early_stopping_rounds=None,\n",
              "              enable_categorical=False, eval_metric=None, feature_types=None,\n",
              "              gamma=None, gpu_id=None, grow_policy=None, importance_type=None,\n",
              "              interaction_constraints=None, learning_rate=0.1, max_bin=None,\n",
              "              max_cat_threshold=None, max_cat_to_onehot=None,\n",
              "              max_delta_step=None, max_depth=6, max_leaves=None,\n",
              "              min_child_weight=None, missing=nan, monotone_constraints=None,\n",
              "              n_estimators=100, n_jobs=None, num_parallel_tree=None,\n",
              "              objective=&#x27;multi:softmax&#x27;, predictor=None, ...)</pre></div></div></div></div></div>"
            ],
            "text/plain": [
              "XGBClassifier(base_score=None, booster=None, callbacks=None,\n",
              "              colsample_bylevel=None, colsample_bynode=None,\n",
              "              colsample_bytree=None, early_stopping_rounds=None,\n",
              "              enable_categorical=False, eval_metric=None, feature_types=None,\n",
              "              gamma=None, gpu_id=None, grow_policy=None, importance_type=None,\n",
              "              interaction_constraints=None, learning_rate=0.1, max_bin=None,\n",
              "              max_cat_threshold=None, max_cat_to_onehot=None,\n",
              "              max_delta_step=None, max_depth=6, max_leaves=None,\n",
              "              min_child_weight=None, missing=nan, monotone_constraints=None,\n",
              "              n_estimators=100, n_jobs=None, num_parallel_tree=None,\n",
              "              objective='multi:softmax', predictor=None, ...)"
            ]
          },
          "execution_count": 48,
          "metadata": {},
          "output_type": "execute_result"
        }
      ],
      "source": [
        "xgb_model = xgb.XGBClassifier(objective='multi:softmax', max_depth=6, n_estimators=100, learning_rate=0.1)\n",
        "xgb_model.fit(xtrain,ytrain)"
      ]
    },
    {
      "cell_type": "code",
      "execution_count": null,
      "id": "wQFJgI9vX8x0",
      "metadata": {
        "colab": {
          "base_uri": "https://localhost:8080/"
        },
        "id": "wQFJgI9vX8x0",
        "outputId": "4dcfb0ad-3aac-4c56-b2ec-87fb91360880"
      },
      "outputs": [
        {
          "name": "stdout",
          "output_type": "stream",
          "text": [
            "Test score 0.9599236641221374\n"
          ]
        }
      ],
      "source": [
        "y_xgb_model_pred=xgb_model.predict(xtest)\n",
        "print(f'Test score {accuracy_score(ytest,y_xgb_model_pred)}')"
      ]
    },
    {
      "attachments": {},
      "cell_type": "markdown",
      "id": "AyPp3mUx2QQ3",
      "metadata": {
        "id": "AyPp3mUx2QQ3"
      },
      "source": [
        "### 5.6 Neural Network"
      ]
    },
    {
      "cell_type": "code",
      "execution_count": null,
      "id": "UkS5pHI52stW",
      "metadata": {
        "id": "UkS5pHI52stW"
      },
      "outputs": [],
      "source": [
        "def adjust_cp_diff(cp_diff, threshold):\n",
        "    if abs(cp_diff) > threshold:\n",
        "        return cp_diff * 1.1  \n",
        "    elif abs(cp_diff) < threshold:\n",
        "        return cp_diff * 0.6 \n",
        "    else:\n",
        "        return cp_diff\n",
        "\n",
        "data['centipawnTotal'] = data.apply(lambda row: adjust_cp_diff(row['White Av CP Loss'] - row['Black Av CP Loss'], 3), axis=1)"
      ]
    },
    {
      "cell_type": "code",
      "execution_count": null,
      "id": "GeoZYjLA2uHQ",
      "metadata": {
        "id": "GeoZYjLA2uHQ"
      },
      "outputs": [],
      "source": [
        "def adjust_elo_diff(elo_diff, threshold):\n",
        "    if abs(elo_diff) > threshold:\n",
        "        return elo_diff * 1.1  \n",
        "    elif abs(elo_diff) < threshold:\n",
        "        return elo_diff * 0.1  \n",
        "    else:\n",
        "        return elo_diff\n",
        "\n",
        "data['ELO_diff'] = data.apply(lambda row: adjust_elo_diff(row['White ELO'] - row['Black ELO'], 10), axis=1)"
      ]
    },
    {
      "cell_type": "code",
      "execution_count": null,
      "id": "6cnRCWy426Du",
      "metadata": {
        "colab": {
          "base_uri": "https://localhost:8080/",
          "height": 206
        },
        "id": "6cnRCWy426Du",
        "outputId": "97563965-26e4-4765-aaf0-f81d99eb1339"
      },
      "outputs": [
        {
          "data": {
            "text/html": [
              "\n",
              "  <div id=\"df-de03026a-df5c-416b-9cc9-86b7121e35c0\">\n",
              "    <div class=\"colab-df-container\">\n",
              "      <div>\n",
              "<style scoped>\n",
              "    .dataframe tbody tr th:only-of-type {\n",
              "        vertical-align: middle;\n",
              "    }\n",
              "\n",
              "    .dataframe tbody tr th {\n",
              "        vertical-align: top;\n",
              "    }\n",
              "\n",
              "    .dataframe thead th {\n",
              "        text-align: right;\n",
              "    }\n",
              "</style>\n",
              "<table border=\"1\" class=\"dataframe\">\n",
              "  <thead>\n",
              "    <tr style=\"text-align: right;\">\n",
              "      <th></th>\n",
              "      <th>Result</th>\n",
              "      <th>White ELO</th>\n",
              "      <th>Black ELO</th>\n",
              "      <th>White Av CP Loss</th>\n",
              "      <th>Black Av CP Loss</th>\n",
              "      <th>ELO_diff</th>\n",
              "      <th>ACPL Lower</th>\n",
              "      <th>ACPL Higher</th>\n",
              "      <th>centipawnTotal</th>\n",
              "    </tr>\n",
              "  </thead>\n",
              "  <tbody>\n",
              "    <tr>\n",
              "      <th>0</th>\n",
              "      <td>0</td>\n",
              "      <td>2302.0</td>\n",
              "      <td>1924.0</td>\n",
              "      <td>22.0</td>\n",
              "      <td>46.0</td>\n",
              "      <td>415.8</td>\n",
              "      <td>46.0</td>\n",
              "      <td>22.0</td>\n",
              "      <td>-26.4</td>\n",
              "    </tr>\n",
              "    <tr>\n",
              "      <th>1</th>\n",
              "      <td>1</td>\n",
              "      <td>2302.0</td>\n",
              "      <td>2502.0</td>\n",
              "      <td>12.0</td>\n",
              "      <td>13.0</td>\n",
              "      <td>-220.0</td>\n",
              "      <td>12.0</td>\n",
              "      <td>13.0</td>\n",
              "      <td>-0.6</td>\n",
              "    </tr>\n",
              "    <tr>\n",
              "      <th>2</th>\n",
              "      <td>2</td>\n",
              "      <td>2496.0</td>\n",
              "      <td>2302.0</td>\n",
              "      <td>46.0</td>\n",
              "      <td>28.0</td>\n",
              "      <td>213.4</td>\n",
              "      <td>28.0</td>\n",
              "      <td>46.0</td>\n",
              "      <td>19.8</td>\n",
              "    </tr>\n",
              "    <tr>\n",
              "      <th>3</th>\n",
              "      <td>0</td>\n",
              "      <td>2509.0</td>\n",
              "      <td>2302.0</td>\n",
              "      <td>22.0</td>\n",
              "      <td>38.0</td>\n",
              "      <td>227.7</td>\n",
              "      <td>38.0</td>\n",
              "      <td>22.0</td>\n",
              "      <td>-17.6</td>\n",
              "    </tr>\n",
              "    <tr>\n",
              "      <th>4</th>\n",
              "      <td>2</td>\n",
              "      <td>2302.0</td>\n",
              "      <td>2405.0</td>\n",
              "      <td>23.0</td>\n",
              "      <td>7.0</td>\n",
              "      <td>-113.3</td>\n",
              "      <td>23.0</td>\n",
              "      <td>7.0</td>\n",
              "      <td>17.6</td>\n",
              "    </tr>\n",
              "  </tbody>\n",
              "</table>\n",
              "</div>\n",
              "      <button class=\"colab-df-convert\" onclick=\"convertToInteractive('df-de03026a-df5c-416b-9cc9-86b7121e35c0')\"\n",
              "              title=\"Convert this dataframe to an interactive table.\"\n",
              "              style=\"display:none;\">\n",
              "        \n",
              "  <svg xmlns=\"http://www.w3.org/2000/svg\" height=\"24px\"viewBox=\"0 0 24 24\"\n",
              "       width=\"24px\">\n",
              "    <path d=\"M0 0h24v24H0V0z\" fill=\"none\"/>\n",
              "    <path d=\"M18.56 5.44l.94 2.06.94-2.06 2.06-.94-2.06-.94-.94-2.06-.94 2.06-2.06.94zm-11 1L8.5 8.5l.94-2.06 2.06-.94-2.06-.94L8.5 2.5l-.94 2.06-2.06.94zm10 10l.94 2.06.94-2.06 2.06-.94-2.06-.94-.94-2.06-.94 2.06-2.06.94z\"/><path d=\"M17.41 7.96l-1.37-1.37c-.4-.4-.92-.59-1.43-.59-.52 0-1.04.2-1.43.59L10.3 9.45l-7.72 7.72c-.78.78-.78 2.05 0 2.83L4 21.41c.39.39.9.59 1.41.59.51 0 1.02-.2 1.41-.59l7.78-7.78 2.81-2.81c.8-.78.8-2.07 0-2.86zM5.41 20L4 18.59l7.72-7.72 1.47 1.35L5.41 20z\"/>\n",
              "  </svg>\n",
              "      </button>\n",
              "      \n",
              "  <style>\n",
              "    .colab-df-container {\n",
              "      display:flex;\n",
              "      flex-wrap:wrap;\n",
              "      gap: 12px;\n",
              "    }\n",
              "\n",
              "    .colab-df-convert {\n",
              "      background-color: #E8F0FE;\n",
              "      border: none;\n",
              "      border-radius: 50%;\n",
              "      cursor: pointer;\n",
              "      display: none;\n",
              "      fill: #1967D2;\n",
              "      height: 32px;\n",
              "      padding: 0 0 0 0;\n",
              "      width: 32px;\n",
              "    }\n",
              "\n",
              "    .colab-df-convert:hover {\n",
              "      background-color: #E2EBFA;\n",
              "      box-shadow: 0px 1px 2px rgba(60, 64, 67, 0.3), 0px 1px 3px 1px rgba(60, 64, 67, 0.15);\n",
              "      fill: #174EA6;\n",
              "    }\n",
              "\n",
              "    [theme=dark] .colab-df-convert {\n",
              "      background-color: #3B4455;\n",
              "      fill: #D2E3FC;\n",
              "    }\n",
              "\n",
              "    [theme=dark] .colab-df-convert:hover {\n",
              "      background-color: #434B5C;\n",
              "      box-shadow: 0px 1px 3px 1px rgba(0, 0, 0, 0.15);\n",
              "      filter: drop-shadow(0px 1px 2px rgba(0, 0, 0, 0.3));\n",
              "      fill: #FFFFFF;\n",
              "    }\n",
              "  </style>\n",
              "\n",
              "      <script>\n",
              "        const buttonEl =\n",
              "          document.querySelector('#df-de03026a-df5c-416b-9cc9-86b7121e35c0 button.colab-df-convert');\n",
              "        buttonEl.style.display =\n",
              "          google.colab.kernel.accessAllowed ? 'block' : 'none';\n",
              "\n",
              "        async function convertToInteractive(key) {\n",
              "          const element = document.querySelector('#df-de03026a-df5c-416b-9cc9-86b7121e35c0');\n",
              "          const dataTable =\n",
              "            await google.colab.kernel.invokeFunction('convertToInteractive',\n",
              "                                                     [key], {});\n",
              "          if (!dataTable) return;\n",
              "\n",
              "          const docLinkHtml = 'Like what you see? Visit the ' +\n",
              "            '<a target=\"_blank\" href=https://colab.research.google.com/notebooks/data_table.ipynb>data table notebook</a>'\n",
              "            + ' to learn more about interactive tables.';\n",
              "          element.innerHTML = '';\n",
              "          dataTable['output_type'] = 'display_data';\n",
              "          await google.colab.output.renderOutput(dataTable, element);\n",
              "          const docLink = document.createElement('div');\n",
              "          docLink.innerHTML = docLinkHtml;\n",
              "          element.appendChild(docLink);\n",
              "        }\n",
              "      </script>\n",
              "    </div>\n",
              "  </div>\n",
              "  "
            ],
            "text/plain": [
              "   Result  White ELO  Black ELO  White Av CP Loss  Black Av CP Loss  ELO_diff  \\\n",
              "0       0     2302.0     1924.0              22.0              46.0     415.8   \n",
              "1       1     2302.0     2502.0              12.0              13.0    -220.0   \n",
              "2       2     2496.0     2302.0              46.0              28.0     213.4   \n",
              "3       0     2509.0     2302.0              22.0              38.0     227.7   \n",
              "4       2     2302.0     2405.0              23.0               7.0    -113.3   \n",
              "\n",
              "   ACPL Lower  ACPL Higher  centipawnTotal  \n",
              "0        46.0         22.0           -26.4  \n",
              "1        12.0         13.0            -0.6  \n",
              "2        28.0         46.0            19.8  \n",
              "3        38.0         22.0           -17.6  \n",
              "4        23.0          7.0            17.6  "
            ]
          },
          "execution_count": 52,
          "metadata": {},
          "output_type": "execute_result"
        }
      ],
      "source": [
        "data.head()"
      ]
    },
    {
      "cell_type": "code",
      "execution_count": null,
      "id": "IPSIaGNi23yA",
      "metadata": {
        "colab": {
          "base_uri": "https://localhost:8080/"
        },
        "id": "IPSIaGNi23yA",
        "outputId": "6991cefb-b518-4afe-b831-9a3b43f03a09"
      },
      "outputs": [
        {
          "name": "stdout",
          "output_type": "stream",
          "text": [
            "Result              1.000000\n",
            "White ELO           0.226814\n",
            "Black ELO           0.231891\n",
            "White Av CP Loss    0.366742\n",
            "Black Av CP Loss    0.448540\n",
            "ELO_diff            0.500751\n",
            "centipawnTotal      0.887262\n",
            "Name: Result, dtype: float64\n"
          ]
        }
      ],
      "source": [
        "corr_matrix = data.corr()\n",
        "corr_target = abs(corr_matrix[\"Result\"])\n",
        "\n",
        "# Select highly correlated features\n",
        "relevant_features = corr_target[corr_target>0.2]\n",
        "print(relevant_features)"
      ]
    },
    {
      "cell_type": "code",
      "execution_count": null,
      "id": "RhtNkdtl37gF",
      "metadata": {
        "id": "RhtNkdtl37gF"
      },
      "outputs": [],
      "source": [
        "data= data.drop(['ACPL Lower','ACPL Higher'], axis=1)\n"
      ]
    },
    {
      "cell_type": "code",
      "execution_count": null,
      "id": "6XeH-U174uRJ",
      "metadata": {
        "id": "6XeH-U174uRJ"
      },
      "outputs": [],
      "source": [
        "x = data.drop(columns=['Result'])\n",
        "y = data['Result']"
      ]
    },
    {
      "cell_type": "code",
      "execution_count": null,
      "id": "MUP3iO5h3UtW",
      "metadata": {
        "id": "MUP3iO5h3UtW"
      },
      "outputs": [],
      "source": [
        "xtrain, xtest, ytrain, ytest = train_test_split(x, y, test_size=0.2, random_state=23)"
      ]
    },
    {
      "cell_type": "code",
      "execution_count": null,
      "id": "6DcIY4aV3dBI",
      "metadata": {
        "id": "6DcIY4aV3dBI"
      },
      "outputs": [],
      "source": [
        "#one-hot encoding\n",
        "ytrain = tf.keras.utils.to_categorical(ytrain)\n",
        "ytest = tf.keras.utils.to_categorical(ytest)"
      ]
    },
    {
      "cell_type": "code",
      "execution_count": null,
      "id": "NGq_id6K3hdH",
      "metadata": {
        "id": "NGq_id6K3hdH"
      },
      "outputs": [],
      "source": [
        "#Building the multilayer perceprtron\n",
        "def mbuilder(xtrain,ytrain,xtest,ytest):\n",
        "    model = tf.keras.Sequential([\n",
        "      tf.keras.layers.Dense(256, activation='swish', kernel_regularizer=regularizers.l2(0.05), input_shape=(6,)),\n",
        "      tf.keras.layers.BatchNormalization(),\n",
        "      tf.keras.layers.Dropout(0.1),\n",
        "      tf.keras.layers.Dense(256, activation='swish', kernel_regularizer=regularizers.l2(0.02)),  \n",
        "      tf.keras.layers.Dense(3, activation='softmax')\n",
        "    ])\n",
        "    def lr_schedule(epoch):\n",
        "      lr = 0.002\n",
        "      if epoch > 30:\n",
        "          lr *= 0.5\n",
        "      if epoch > 40:\n",
        "          lr *= 0.3\n",
        "      if epoch > 50:\n",
        "          lr *= 0.1\n",
        "      if epoch > 60:\n",
        "          lr *= 0.09  \n",
        "      return lr\n",
        "    optimizer=Adam()\n",
        "    lr_scheduler = tf.keras.callbacks.LearningRateScheduler(lr_schedule)\n",
        "\n",
        "    early_stop = tf.keras.callbacks.EarlyStopping(monitor='val_accuracy',patience=80)\n",
        "    mc = tf.keras.callbacks.ModelCheckpoint('/content/sample_data/best_model.h5', monitor='val_accuracy', mode='max', save_best_only=True)\n",
        "    model.compile(loss=kullback_leibler_divergence, optimizer=optimizer, metrics=['accuracy'])\n",
        "    model.fit(xtrain, ytrain, epochs=75, batch_size=32,validation_split=0.15, callbacks=[early_stop,mc,lr_scheduler])\n",
        "   "
      ]
    },
    {
      "attachments": {},
      "cell_type": "markdown",
      "id": "pOenzkG06m-H",
      "metadata": {
        "id": "pOenzkG06m-H"
      },
      "source": [
        "The model consists of Dense layers with 256 nodes and the activation function 'swish'. The BatchNormalization layer that helps in normalizing the input data.\n",
        "The purpose of batch normalization is to improve the performance and stability of (deep) neural networks by reducing the internal covariate shift. The fourth layer is a Dropout layer that randomly drops out some nodes during training to avoid overfitting. The final layer is a Dense layer with 3 nodes and the activation function 'softmax', which outputs probabilities for each of the three classes.\n",
        "\n",
        "The function also defines a learning rate schedule which decreases the learning rate as the number of epochs increases. It then creates three callbacks: EarlyStopping, ModelCheckpoint, and LearningRateScheduler, which are used to monitor the model's performance during training and save the best model.\n",
        "\n",
        "Finally, the model is compiled with a loss function called 'kullback_leibler_divergence', an optimizer called Adam, and an accuracy metric. It is trained on the input data (xtrain and ytrain) for 75 epochs with a batch size of 32 and a validation split of 15%, using the callbacks created earlier."
      ]
    },
    {
      "cell_type": "code",
      "execution_count": null,
      "id": "c55Qee8L3oC9",
      "metadata": {
        "colab": {
          "base_uri": "https://localhost:8080/"
        },
        "id": "c55Qee8L3oC9",
        "outputId": "e6ff652a-40c3-4e98-a1b0-9e8aa67c6941"
      },
      "outputs": [
        {
          "name": "stdout",
          "output_type": "stream",
          "text": [
            "Epoch 1/75\n",
            "223/223 [==============================] - 3s 7ms/step - loss: 1.4693 - accuracy: 0.8532 - val_loss: 1.6273 - val_accuracy: 0.5652 - lr: 0.0020\n",
            "Epoch 2/75\n",
            "223/223 [==============================] - 1s 4ms/step - loss: 0.4865 - accuracy: 0.8892 - val_loss: 7.2288 - val_accuracy: 0.3482 - lr: 0.0020\n",
            "Epoch 3/75\n",
            "223/223 [==============================] - 1s 4ms/step - loss: 0.4502 - accuracy: 0.8939 - val_loss: 3.2799 - val_accuracy: 0.6669 - lr: 0.0020\n",
            "Epoch 4/75\n",
            "223/223 [==============================] - 1s 5ms/step - loss: 0.4311 - accuracy: 0.9005 - val_loss: 12.3480 - val_accuracy: 0.2361 - lr: 0.0020\n",
            "Epoch 5/75\n",
            "223/223 [==============================] - 1s 4ms/step - loss: 0.4591 - accuracy: 0.8864 - val_loss: 1.8157 - val_accuracy: 0.5596 - lr: 0.0020\n",
            "Epoch 6/75\n",
            "223/223 [==============================] - 1s 4ms/step - loss: 0.3930 - accuracy: 0.9037 - val_loss: 4.1892 - val_accuracy: 0.2671 - lr: 0.0020\n",
            "Epoch 7/75\n",
            "223/223 [==============================] - 1s 5ms/step - loss: 0.3739 - accuracy: 0.9088 - val_loss: 8.1108 - val_accuracy: 0.3474 - lr: 0.0020\n",
            "Epoch 8/75\n",
            "223/223 [==============================] - 1s 5ms/step - loss: 0.3731 - accuracy: 0.9009 - val_loss: 0.5156 - val_accuracy: 0.8649 - lr: 0.0020\n",
            "Epoch 9/75\n",
            "223/223 [==============================] - 1s 4ms/step - loss: 0.4234 - accuracy: 0.8831 - val_loss: 6.6067 - val_accuracy: 0.2544 - lr: 0.0020\n",
            "Epoch 10/75\n",
            "223/223 [==============================] - 1s 4ms/step - loss: 0.3618 - accuracy: 0.8972 - val_loss: 10.5188 - val_accuracy: 0.3474 - lr: 0.0020\n",
            "Epoch 11/75\n",
            "223/223 [==============================] - 1s 5ms/step - loss: 0.3533 - accuracy: 0.9045 - val_loss: 12.3440 - val_accuracy: 0.2385 - lr: 0.0020\n",
            "Epoch 12/75\n",
            "223/223 [==============================] - 1s 6ms/step - loss: 0.3632 - accuracy: 0.9037 - val_loss: 0.6397 - val_accuracy: 0.7599 - lr: 0.0018\n",
            "Epoch 13/75\n",
            "223/223 [==============================] - 1s 6ms/step - loss: 0.3550 - accuracy: 0.9006 - val_loss: 6.4999 - val_accuracy: 0.3657 - lr: 0.0018\n",
            "Epoch 14/75\n",
            "223/223 [==============================] - 1s 4ms/step - loss: 0.3898 - accuracy: 0.8907 - val_loss: 0.6179 - val_accuracy: 0.7687 - lr: 0.0018\n",
            "Epoch 15/75\n",
            "223/223 [==============================] - 1s 4ms/step - loss: 0.3935 - accuracy: 0.8940 - val_loss: 0.8713 - val_accuracy: 0.5739 - lr: 0.0018\n",
            "Epoch 16/75\n",
            "223/223 [==============================] - 1s 5ms/step - loss: 0.4084 - accuracy: 0.8923 - val_loss: 1.1210 - val_accuracy: 0.5453 - lr: 0.0018\n",
            "Epoch 17/75\n",
            "223/223 [==============================] - 1s 4ms/step - loss: 0.3886 - accuracy: 0.8960 - val_loss: 1.1777 - val_accuracy: 0.5739 - lr: 0.0018\n",
            "Epoch 18/75\n",
            "223/223 [==============================] - 1s 5ms/step - loss: 0.4147 - accuracy: 0.8855 - val_loss: 3.4958 - val_accuracy: 0.5040 - lr: 0.0018\n",
            "Epoch 19/75\n",
            "223/223 [==============================] - 1s 4ms/step - loss: 0.3888 - accuracy: 0.8949 - val_loss: 0.4895 - val_accuracy: 0.8609 - lr: 0.0018\n",
            "Epoch 20/75\n",
            "223/223 [==============================] - 1s 5ms/step - loss: 0.4011 - accuracy: 0.8921 - val_loss: 1.2378 - val_accuracy: 0.4229 - lr: 0.0018\n",
            "Epoch 21/75\n",
            "223/223 [==============================] - 1s 5ms/step - loss: 0.3684 - accuracy: 0.9010 - val_loss: 2.0606 - val_accuracy: 0.4722 - lr: 0.0018\n",
            "Epoch 22/75\n",
            "223/223 [==============================] - 1s 5ms/step - loss: 0.3498 - accuracy: 0.9045 - val_loss: 6.8212 - val_accuracy: 0.2512 - lr: 0.0013\n",
            "Epoch 23/75\n",
            "223/223 [==============================] - 1s 5ms/step - loss: 0.3284 - accuracy: 0.9137 - val_loss: 1.1356 - val_accuracy: 0.5374 - lr: 0.0013\n",
            "Epoch 24/75\n",
            "223/223 [==============================] - 1s 6ms/step - loss: 0.3306 - accuracy: 0.9090 - val_loss: 0.5831 - val_accuracy: 0.7870 - lr: 0.0013\n",
            "Epoch 25/75\n",
            "223/223 [==============================] - 1s 6ms/step - loss: 0.3289 - accuracy: 0.9104 - val_loss: 3.6695 - val_accuracy: 0.4062 - lr: 0.0013\n",
            "Epoch 26/75\n",
            "223/223 [==============================] - 1s 5ms/step - loss: 0.3397 - accuracy: 0.9088 - val_loss: 3.2686 - val_accuracy: 0.3076 - lr: 0.0013\n",
            "Epoch 27/75\n",
            "223/223 [==============================] - 1s 5ms/step - loss: 0.3779 - accuracy: 0.8916 - val_loss: 0.7801 - val_accuracy: 0.5151 - lr: 0.0013\n",
            "Epoch 28/75\n",
            "223/223 [==============================] - 1s 4ms/step - loss: 0.3576 - accuracy: 0.8987 - val_loss: 3.0853 - val_accuracy: 0.4539 - lr: 0.0013\n",
            "Epoch 29/75\n",
            "223/223 [==============================] - 1s 4ms/step - loss: 0.3476 - accuracy: 0.8995 - val_loss: 2.0707 - val_accuracy: 0.4149 - lr: 0.0013\n",
            "Epoch 30/75\n",
            "223/223 [==============================] - 1s 4ms/step - loss: 0.3366 - accuracy: 0.9075 - val_loss: 0.4776 - val_accuracy: 0.8339 - lr: 0.0013\n",
            "Epoch 31/75\n",
            "223/223 [==============================] - 1s 5ms/step - loss: 0.3314 - accuracy: 0.9061 - val_loss: 2.0680 - val_accuracy: 0.2854 - lr: 0.0013\n",
            "Epoch 32/75\n",
            "223/223 [==============================] - 1s 4ms/step - loss: 0.3227 - accuracy: 0.9033 - val_loss: 2.6291 - val_accuracy: 0.2973 - lr: 6.3000e-04\n",
            "Epoch 33/75\n",
            "223/223 [==============================] - 1s 4ms/step - loss: 0.3021 - accuracy: 0.9149 - val_loss: 1.0150 - val_accuracy: 0.5175 - lr: 6.3000e-04\n",
            "Epoch 34/75\n",
            "223/223 [==============================] - 1s 4ms/step - loss: 0.2969 - accuracy: 0.9204 - val_loss: 0.3493 - val_accuracy: 0.9189 - lr: 6.3000e-04\n",
            "Epoch 35/75\n",
            "223/223 [==============================] - 1s 4ms/step - loss: 0.3007 - accuracy: 0.9163 - val_loss: 2.6629 - val_accuracy: 0.3879 - lr: 6.3000e-04\n",
            "Epoch 36/75\n",
            "223/223 [==============================] - 1s 5ms/step - loss: 0.3093 - accuracy: 0.9121 - val_loss: 0.5340 - val_accuracy: 0.7361 - lr: 6.3000e-04\n",
            "Epoch 37/75\n",
            "223/223 [==============================] - 1s 6ms/step - loss: 0.2984 - accuracy: 0.9170 - val_loss: 2.2638 - val_accuracy: 0.3140 - lr: 6.3000e-04\n",
            "Epoch 38/75\n",
            "223/223 [==============================] - 1s 6ms/step - loss: 0.3120 - accuracy: 0.9082 - val_loss: 0.6545 - val_accuracy: 0.6041 - lr: 6.3000e-04\n",
            "Epoch 39/75\n",
            "223/223 [==============================] - 1s 4ms/step - loss: 0.2958 - accuracy: 0.9154 - val_loss: 0.4566 - val_accuracy: 0.9014 - lr: 6.3000e-04\n",
            "Epoch 40/75\n",
            "223/223 [==============================] - 1s 5ms/step - loss: 0.2829 - accuracy: 0.9201 - val_loss: 0.6403 - val_accuracy: 0.5779 - lr: 6.3000e-04\n",
            "Epoch 41/75\n",
            "223/223 [==============================] - 1s 5ms/step - loss: 0.2874 - accuracy: 0.9210 - val_loss: 1.3576 - val_accuracy: 0.3990 - lr: 6.3000e-04\n",
            "Epoch 42/75\n",
            "223/223 [==============================] - 1s 4ms/step - loss: 0.2773 - accuracy: 0.9190 - val_loss: 0.2627 - val_accuracy: 0.9491 - lr: 1.8900e-04\n",
            "Epoch 43/75\n",
            "223/223 [==============================] - 1s 4ms/step - loss: 0.2708 - accuracy: 0.9250 - val_loss: 0.4983 - val_accuracy: 0.8045 - lr: 1.8900e-04\n",
            "Epoch 44/75\n",
            "223/223 [==============================] - 1s 4ms/step - loss: 0.2560 - accuracy: 0.9305 - val_loss: 0.7457 - val_accuracy: 0.5580 - lr: 1.8900e-04\n",
            "Epoch 45/75\n",
            "223/223 [==============================] - 1s 4ms/step - loss: 0.2533 - accuracy: 0.9309 - val_loss: 0.2960 - val_accuracy: 0.9412 - lr: 1.8900e-04\n",
            "Epoch 46/75\n",
            "223/223 [==============================] - 1s 4ms/step - loss: 0.2655 - accuracy: 0.9256 - val_loss: 1.5418 - val_accuracy: 0.4650 - lr: 1.8900e-04\n",
            "Epoch 47/75\n",
            "223/223 [==============================] - 1s 4ms/step - loss: 0.2534 - accuracy: 0.9325 - val_loss: 0.3822 - val_accuracy: 0.8879 - lr: 1.8900e-04\n",
            "Epoch 48/75\n",
            "223/223 [==============================] - 1s 5ms/step - loss: 0.2617 - accuracy: 0.9287 - val_loss: 0.2245 - val_accuracy: 0.9499 - lr: 1.8900e-04\n",
            "Epoch 49/75\n",
            "223/223 [==============================] - 1s 6ms/step - loss: 0.2553 - accuracy: 0.9309 - val_loss: 0.3173 - val_accuracy: 0.9444 - lr: 1.8900e-04\n",
            "Epoch 50/75\n",
            "223/223 [==============================] - 1s 6ms/step - loss: 0.2607 - accuracy: 0.9284 - val_loss: 0.2406 - val_accuracy: 0.9436 - lr: 1.8900e-04\n",
            "Epoch 51/75\n",
            "223/223 [==============================] - 1s 5ms/step - loss: 0.2490 - accuracy: 0.9286 - val_loss: 0.3792 - val_accuracy: 0.8879 - lr: 1.8900e-04\n",
            "Epoch 52/75\n",
            "223/223 [==============================] - 1s 5ms/step - loss: 0.2409 - accuracy: 0.9336 - val_loss: 0.2140 - val_accuracy: 0.9555 - lr: 1.8900e-05\n",
            "Epoch 53/75\n",
            "223/223 [==============================] - 1s 5ms/step - loss: 0.2343 - accuracy: 0.9405 - val_loss: 0.2128 - val_accuracy: 0.9563 - lr: 1.8900e-05\n",
            "Epoch 54/75\n",
            "223/223 [==============================] - 1s 5ms/step - loss: 0.2407 - accuracy: 0.9366 - val_loss: 0.2209 - val_accuracy: 0.9531 - lr: 1.8900e-05\n",
            "Epoch 55/75\n",
            "223/223 [==============================] - 1s 5ms/step - loss: 0.2365 - accuracy: 0.9373 - val_loss: 0.2078 - val_accuracy: 0.9547 - lr: 1.8900e-05\n",
            "Epoch 56/75\n",
            "223/223 [==============================] - 1s 4ms/step - loss: 0.2299 - accuracy: 0.9415 - val_loss: 0.2122 - val_accuracy: 0.9547 - lr: 1.8900e-05\n",
            "Epoch 57/75\n",
            "223/223 [==============================] - 1s 4ms/step - loss: 0.2268 - accuracy: 0.9424 - val_loss: 0.2032 - val_accuracy: 0.9563 - lr: 1.8900e-05\n",
            "Epoch 58/75\n",
            "223/223 [==============================] - 1s 4ms/step - loss: 0.2303 - accuracy: 0.9374 - val_loss: 0.2049 - val_accuracy: 0.9539 - lr: 1.8900e-05\n",
            "Epoch 59/75\n",
            "223/223 [==============================] - 1s 5ms/step - loss: 0.2220 - accuracy: 0.9426 - val_loss: 0.2139 - val_accuracy: 0.9539 - lr: 1.8900e-05\n",
            "Epoch 60/75\n",
            "223/223 [==============================] - 1s 4ms/step - loss: 0.2308 - accuracy: 0.9399 - val_loss: 0.2029 - val_accuracy: 0.9555 - lr: 1.8900e-05\n",
            "Epoch 61/75\n",
            "223/223 [==============================] - 1s 5ms/step - loss: 0.2279 - accuracy: 0.9417 - val_loss: 0.2195 - val_accuracy: 0.9539 - lr: 1.8900e-05\n",
            "Epoch 62/75\n",
            "223/223 [==============================] - 1s 6ms/step - loss: 0.2262 - accuracy: 0.9413 - val_loss: 0.1999 - val_accuracy: 0.9571 - lr: 1.7010e-06\n",
            "Epoch 63/75\n",
            "223/223 [==============================] - 1s 6ms/step - loss: 0.2323 - accuracy: 0.9373 - val_loss: 0.1997 - val_accuracy: 0.9579 - lr: 1.7010e-06\n",
            "Epoch 64/75\n",
            "223/223 [==============================] - 1s 4ms/step - loss: 0.2218 - accuracy: 0.9423 - val_loss: 0.1995 - val_accuracy: 0.9587 - lr: 1.7010e-06\n",
            "Epoch 65/75\n",
            "223/223 [==============================] - 1s 4ms/step - loss: 0.2270 - accuracy: 0.9396 - val_loss: 0.1995 - val_accuracy: 0.9587 - lr: 1.7010e-06\n",
            "Epoch 66/75\n",
            "223/223 [==============================] - 1s 5ms/step - loss: 0.2254 - accuracy: 0.9374 - val_loss: 0.1997 - val_accuracy: 0.9587 - lr: 1.7010e-06\n",
            "Epoch 67/75\n",
            "223/223 [==============================] - 1s 5ms/step - loss: 0.2179 - accuracy: 0.9419 - val_loss: 0.1999 - val_accuracy: 0.9587 - lr: 1.7010e-06\n",
            "Epoch 68/75\n",
            "223/223 [==============================] - 1s 4ms/step - loss: 0.2128 - accuracy: 0.9454 - val_loss: 0.1992 - val_accuracy: 0.9571 - lr: 1.7010e-06\n",
            "Epoch 69/75\n",
            "223/223 [==============================] - 1s 5ms/step - loss: 0.2177 - accuracy: 0.9444 - val_loss: 0.1995 - val_accuracy: 0.9587 - lr: 1.7010e-06\n",
            "Epoch 70/75\n",
            "223/223 [==============================] - 1s 5ms/step - loss: 0.2278 - accuracy: 0.9417 - val_loss: 0.1996 - val_accuracy: 0.9587 - lr: 1.7010e-06\n",
            "Epoch 71/75\n",
            "223/223 [==============================] - 1s 5ms/step - loss: 0.2182 - accuracy: 0.9413 - val_loss: 0.1996 - val_accuracy: 0.9587 - lr: 1.7010e-06\n",
            "Epoch 72/75\n",
            "223/223 [==============================] - 1s 4ms/step - loss: 0.2184 - accuracy: 0.9413 - val_loss: 0.1989 - val_accuracy: 0.9587 - lr: 1.7010e-06\n",
            "Epoch 73/75\n",
            "223/223 [==============================] - 1s 5ms/step - loss: 0.2272 - accuracy: 0.9371 - val_loss: 0.1991 - val_accuracy: 0.9587 - lr: 1.7010e-06\n",
            "Epoch 74/75\n",
            "223/223 [==============================] - 1s 6ms/step - loss: 0.2255 - accuracy: 0.9427 - val_loss: 0.1987 - val_accuracy: 0.9595 - lr: 1.7010e-06\n",
            "Epoch 75/75\n",
            "223/223 [==============================] - 1s 6ms/step - loss: 0.2176 - accuracy: 0.9416 - val_loss: 0.1988 - val_accuracy: 0.9579 - lr: 1.7010e-06\n"
          ]
        }
      ],
      "source": [
        "modelnn=mbuilder(xtrain,ytrain,xtest,ytest)"
      ]
    },
    {
      "cell_type": "code",
      "execution_count": null,
      "id": "kovUu1B_5L48",
      "metadata": {
        "colab": {
          "base_uri": "https://localhost:8080/"
        },
        "id": "kovUu1B_5L48",
        "outputId": "7969da3f-8edd-437a-9f13-3bffb70f80fc"
      },
      "outputs": [
        {
          "name": "stdout",
          "output_type": "stream",
          "text": [
            "66/66 [==============================] - 0s 3ms/step - loss: 0.1821 - accuracy: 0.9642\n",
            "Test loss: 0.18205857276916504\n",
            "Test accuracy: 0.9642175436019897\n"
          ]
        }
      ],
      "source": [
        "#loading the best model according to val_accuracy\n",
        "saved_model = load_model('/content/sample_data/best_model.h5')\n",
        "test_loss, test_acc = saved_model.evaluate(xtest, ytest)\n",
        "print('Test loss:', test_loss)\n",
        "print('Test accuracy:', test_acc)"
      ]
    },
    {
      "cell_type": "code",
      "execution_count": null,
      "id": "fZPIWLp95M4p",
      "metadata": {
        "colab": {
          "base_uri": "https://localhost:8080/"
        },
        "id": "fZPIWLp95M4p",
        "outputId": "5bab3fe0-66e4-46d3-8236-81aaa564d673"
      },
      "outputs": [
        {
          "name": "stdout",
          "output_type": "stream",
          "text": [
            "66/66 [==============================] - 0s 2ms/step\n"
          ]
        }
      ],
      "source": [
        "y_pred=saved_model.predict(xtest)\n",
        "#reverting one hot encoding\n",
        "ytest_orig = tf.argmax(ytest, axis=1)\n",
        "y_pred_orig = tf.argmax(y_pred, axis=1)\n",
        "#converting into a np array\n",
        "ytest_orig = np.array(ytest_orig)\n",
        "y_pred_orig = np.array(y_pred_orig)"
      ]
    },
    {
      "cell_type": "code",
      "execution_count": null,
      "id": "cV5_8orE5Ygm",
      "metadata": {
        "id": "cV5_8orE5Ygm"
      },
      "outputs": [],
      "source": [
        "#getting the incorrect indices\n",
        "incorrect_indices = [i for i in range(len(ytest_orig)) if ytest_orig[i] != y_pred_orig[i]]\n",
        "#getting the incorrect labels via the help of incorrect_indices\n",
        "incorrect_labels = y_pred_orig[incorrect_indices]\n",
        "#getting the correct labels\n",
        "correct_labels = [ytest_orig[i] for i in incorrect_indices]\n",
        "arr11 = xtest['centipawnTotal'].values\n",
        "incorrect_centipawnTotal= arr11[incorrect_indices]"
      ]
    },
    {
      "cell_type": "code",
      "execution_count": null,
      "id": "CyP0pam-5ano",
      "metadata": {
        "colab": {
          "base_uri": "https://localhost:8080/"
        },
        "id": "CyP0pam-5ano",
        "outputId": "e1a84831-f370-4a69-c7ac-0e7a29df983a"
      },
      "outputs": [
        {
          "name": "stdout",
          "output_type": "stream",
          "text": [
            "    CentipawnTotal  Incorrect Labels  Correct Labels\n",
            "0             -0.6                 1               2\n",
            "1              9.9                 2               1\n",
            "2              4.4                 1               2\n",
            "3             -7.7                 0               1\n",
            "4              7.7                 1               2\n",
            "..             ...               ...             ...\n",
            "70             0.6                 1               0\n",
            "71             8.8                 1               2\n",
            "72            -3.0                 1               0\n",
            "73             3.0                 1               2\n",
            "74             0.6                 1               0\n",
            "\n",
            "[75 rows x 3 columns]\n"
          ]
        }
      ],
      "source": [
        "df = pd.DataFrame({\n",
        "    'CentipawnTotal':incorrect_centipawnTotal,\n",
        "    'Incorrect Labels': incorrect_labels,\n",
        "    'Correct Labels': correct_labels\n",
        "})\n",
        "\n",
        "print(df)"
      ]
    },
    {
      "attachments": {},
      "cell_type": "markdown",
      "id": "aad8951f",
      "metadata": {
        "id": "aad8951f"
      },
      "source": [
        "# 6 Conclusions"
      ]
    },
    {
      "attachments": {},
      "cell_type": "markdown",
      "id": "a1ecdfc0",
      "metadata": {
        "id": "a1ecdfc0"
      },
      "source": [
        "In this project, we tried to build a chess games outcome predictor using machine learning techniques.The first step was collecting and preprocessing the data.After that exploring the data to gain insights and find patterns.Several different machine learning models were tried and tested.Their performance was compared using cross-validation and evaluation metrics such as accuracy, precision, recall, and f1-score. \n",
        "*  Decission Tree Classifier--93.5%\n",
        "*  Decission Tree Classifier (tuned)--94.4%\n",
        "*  Logistic Regression--96.2% \n",
        "*  Random Forest Classifier--95.6%\n",
        "*  Gradient Boosting--95.7%\n",
        "*  Extreme Gradient Boosting--96%\n",
        "*  Multilayer Perceptron--96.4%\n",
        " \n",
        "\n",
        "\n",
        "\n",
        "\n",
        "\n"
      ]
    }
  ],
  "metadata": {
    "accelerator": "GPU",
    "colab": {
      "provenance": []
    },
    "gpuClass": "standard",
    "kernelspec": {
      "display_name": "Python 3 (ipykernel)",
      "language": "python",
      "name": "python3"
    },
    "language_info": {
      "codemirror_mode": {
        "name": "ipython",
        "version": 3
      },
      "file_extension": ".py",
      "mimetype": "text/x-python",
      "name": "python",
      "nbconvert_exporter": "python",
      "pygments_lexer": "ipython3",
      "version": "3.9.12"
    }
  },
  "nbformat": 4,
  "nbformat_minor": 5
}
